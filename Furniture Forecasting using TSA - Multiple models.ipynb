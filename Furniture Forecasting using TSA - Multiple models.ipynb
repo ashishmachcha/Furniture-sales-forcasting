{
 "cells": [
  {
   "cell_type": "code",
   "execution_count": 1,
   "metadata": {},
   "outputs": [
    {
     "data": {
      "text/html": [
       "<div>\n",
       "<style scoped>\n",
       "    .dataframe tbody tr th:only-of-type {\n",
       "        vertical-align: middle;\n",
       "    }\n",
       "\n",
       "    .dataframe tbody tr th {\n",
       "        vertical-align: top;\n",
       "    }\n",
       "\n",
       "    .dataframe thead th {\n",
       "        text-align: right;\n",
       "    }\n",
       "</style>\n",
       "<table border=\"1\" class=\"dataframe\">\n",
       "  <thead>\n",
       "    <tr style=\"text-align: right;\">\n",
       "      <th></th>\n",
       "      <th>Row ID</th>\n",
       "      <th>Order ID</th>\n",
       "      <th>Order Date</th>\n",
       "      <th>Ship Date</th>\n",
       "      <th>Ship Mode</th>\n",
       "      <th>Customer ID</th>\n",
       "      <th>Customer Name</th>\n",
       "      <th>Segment</th>\n",
       "      <th>Country</th>\n",
       "      <th>City</th>\n",
       "      <th>...</th>\n",
       "      <th>Postal Code</th>\n",
       "      <th>Region</th>\n",
       "      <th>Product ID</th>\n",
       "      <th>Category</th>\n",
       "      <th>Sub-Category</th>\n",
       "      <th>Product Name</th>\n",
       "      <th>Sales</th>\n",
       "      <th>Quantity</th>\n",
       "      <th>Discount</th>\n",
       "      <th>Profit</th>\n",
       "    </tr>\n",
       "  </thead>\n",
       "  <tbody>\n",
       "    <tr>\n",
       "      <td>0</td>\n",
       "      <td>1</td>\n",
       "      <td>CA-2016-152156</td>\n",
       "      <td>2016-11-08</td>\n",
       "      <td>2016-11-11</td>\n",
       "      <td>Second Class</td>\n",
       "      <td>CG-12520</td>\n",
       "      <td>Claire Gute</td>\n",
       "      <td>Consumer</td>\n",
       "      <td>United States</td>\n",
       "      <td>Henderson</td>\n",
       "      <td>...</td>\n",
       "      <td>42420</td>\n",
       "      <td>South</td>\n",
       "      <td>FUR-BO-10001798</td>\n",
       "      <td>Furniture</td>\n",
       "      <td>Bookcases</td>\n",
       "      <td>Bush Somerset Collection Bookcase</td>\n",
       "      <td>261.9600</td>\n",
       "      <td>2</td>\n",
       "      <td>0.00</td>\n",
       "      <td>41.9136</td>\n",
       "    </tr>\n",
       "    <tr>\n",
       "      <td>1</td>\n",
       "      <td>2</td>\n",
       "      <td>CA-2016-152156</td>\n",
       "      <td>2016-11-08</td>\n",
       "      <td>2016-11-11</td>\n",
       "      <td>Second Class</td>\n",
       "      <td>CG-12520</td>\n",
       "      <td>Claire Gute</td>\n",
       "      <td>Consumer</td>\n",
       "      <td>United States</td>\n",
       "      <td>Henderson</td>\n",
       "      <td>...</td>\n",
       "      <td>42420</td>\n",
       "      <td>South</td>\n",
       "      <td>FUR-CH-10000454</td>\n",
       "      <td>Furniture</td>\n",
       "      <td>Chairs</td>\n",
       "      <td>Hon Deluxe Fabric Upholstered Stacking Chairs,...</td>\n",
       "      <td>731.9400</td>\n",
       "      <td>3</td>\n",
       "      <td>0.00</td>\n",
       "      <td>219.5820</td>\n",
       "    </tr>\n",
       "    <tr>\n",
       "      <td>2</td>\n",
       "      <td>3</td>\n",
       "      <td>CA-2016-138688</td>\n",
       "      <td>2016-06-12</td>\n",
       "      <td>2016-06-16</td>\n",
       "      <td>Second Class</td>\n",
       "      <td>DV-13045</td>\n",
       "      <td>Darrin Van Huff</td>\n",
       "      <td>Corporate</td>\n",
       "      <td>United States</td>\n",
       "      <td>Los Angeles</td>\n",
       "      <td>...</td>\n",
       "      <td>90036</td>\n",
       "      <td>West</td>\n",
       "      <td>OFF-LA-10000240</td>\n",
       "      <td>Office Supplies</td>\n",
       "      <td>Labels</td>\n",
       "      <td>Self-Adhesive Address Labels for Typewriters b...</td>\n",
       "      <td>14.6200</td>\n",
       "      <td>2</td>\n",
       "      <td>0.00</td>\n",
       "      <td>6.8714</td>\n",
       "    </tr>\n",
       "    <tr>\n",
       "      <td>3</td>\n",
       "      <td>4</td>\n",
       "      <td>US-2015-108966</td>\n",
       "      <td>2015-10-11</td>\n",
       "      <td>2015-10-18</td>\n",
       "      <td>Standard Class</td>\n",
       "      <td>SO-20335</td>\n",
       "      <td>Sean O'Donnell</td>\n",
       "      <td>Consumer</td>\n",
       "      <td>United States</td>\n",
       "      <td>Fort Lauderdale</td>\n",
       "      <td>...</td>\n",
       "      <td>33311</td>\n",
       "      <td>South</td>\n",
       "      <td>FUR-TA-10000577</td>\n",
       "      <td>Furniture</td>\n",
       "      <td>Tables</td>\n",
       "      <td>Bretford CR4500 Series Slim Rectangular Table</td>\n",
       "      <td>957.5775</td>\n",
       "      <td>5</td>\n",
       "      <td>0.45</td>\n",
       "      <td>-383.0310</td>\n",
       "    </tr>\n",
       "    <tr>\n",
       "      <td>4</td>\n",
       "      <td>5</td>\n",
       "      <td>US-2015-108966</td>\n",
       "      <td>2015-10-11</td>\n",
       "      <td>2015-10-18</td>\n",
       "      <td>Standard Class</td>\n",
       "      <td>SO-20335</td>\n",
       "      <td>Sean O'Donnell</td>\n",
       "      <td>Consumer</td>\n",
       "      <td>United States</td>\n",
       "      <td>Fort Lauderdale</td>\n",
       "      <td>...</td>\n",
       "      <td>33311</td>\n",
       "      <td>South</td>\n",
       "      <td>OFF-ST-10000760</td>\n",
       "      <td>Office Supplies</td>\n",
       "      <td>Storage</td>\n",
       "      <td>Eldon Fold 'N Roll Cart System</td>\n",
       "      <td>22.3680</td>\n",
       "      <td>2</td>\n",
       "      <td>0.20</td>\n",
       "      <td>2.5164</td>\n",
       "    </tr>\n",
       "  </tbody>\n",
       "</table>\n",
       "<p>5 rows × 21 columns</p>\n",
       "</div>"
      ],
      "text/plain": [
       "   Row ID        Order ID Order Date  Ship Date       Ship Mode Customer ID  \\\n",
       "0       1  CA-2016-152156 2016-11-08 2016-11-11    Second Class    CG-12520   \n",
       "1       2  CA-2016-152156 2016-11-08 2016-11-11    Second Class    CG-12520   \n",
       "2       3  CA-2016-138688 2016-06-12 2016-06-16    Second Class    DV-13045   \n",
       "3       4  US-2015-108966 2015-10-11 2015-10-18  Standard Class    SO-20335   \n",
       "4       5  US-2015-108966 2015-10-11 2015-10-18  Standard Class    SO-20335   \n",
       "\n",
       "     Customer Name    Segment        Country             City  ...  \\\n",
       "0      Claire Gute   Consumer  United States        Henderson  ...   \n",
       "1      Claire Gute   Consumer  United States        Henderson  ...   \n",
       "2  Darrin Van Huff  Corporate  United States      Los Angeles  ...   \n",
       "3   Sean O'Donnell   Consumer  United States  Fort Lauderdale  ...   \n",
       "4   Sean O'Donnell   Consumer  United States  Fort Lauderdale  ...   \n",
       "\n",
       "  Postal Code  Region       Product ID         Category Sub-Category  \\\n",
       "0       42420   South  FUR-BO-10001798        Furniture    Bookcases   \n",
       "1       42420   South  FUR-CH-10000454        Furniture       Chairs   \n",
       "2       90036    West  OFF-LA-10000240  Office Supplies       Labels   \n",
       "3       33311   South  FUR-TA-10000577        Furniture       Tables   \n",
       "4       33311   South  OFF-ST-10000760  Office Supplies      Storage   \n",
       "\n",
       "                                        Product Name     Sales  Quantity  \\\n",
       "0                  Bush Somerset Collection Bookcase  261.9600         2   \n",
       "1  Hon Deluxe Fabric Upholstered Stacking Chairs,...  731.9400         3   \n",
       "2  Self-Adhesive Address Labels for Typewriters b...   14.6200         2   \n",
       "3      Bretford CR4500 Series Slim Rectangular Table  957.5775         5   \n",
       "4                     Eldon Fold 'N Roll Cart System   22.3680         2   \n",
       "\n",
       "   Discount    Profit  \n",
       "0      0.00   41.9136  \n",
       "1      0.00  219.5820  \n",
       "2      0.00    6.8714  \n",
       "3      0.45 -383.0310  \n",
       "4      0.20    2.5164  \n",
       "\n",
       "[5 rows x 21 columns]"
      ]
     },
     "execution_count": 1,
     "metadata": {},
     "output_type": "execute_result"
    }
   ],
   "source": [
    "import pandas as pd \n",
    "import numpy as np \n",
    "import matplotlib.pyplot as plt \n",
    "#Importing data\n",
    "df = pd.read_excel('Sample - Superstore.xls')\n",
    "#Printing head\n",
    "df.head()"
   ]
  },
  {
   "cell_type": "code",
   "execution_count": 2,
   "metadata": {},
   "outputs": [
    {
     "data": {
      "text/plain": [
       "(9994, 21)"
      ]
     },
     "execution_count": 2,
     "metadata": {},
     "output_type": "execute_result"
    }
   ],
   "source": [
    "df.shape"
   ]
  },
  {
   "cell_type": "code",
   "execution_count": 3,
   "metadata": {
    "scrolled": true
   },
   "outputs": [
    {
     "data": {
      "text/plain": [
       "Office Supplies    6026\n",
       "Furniture          2121\n",
       "Technology         1847\n",
       "Name: Category, dtype: int64"
      ]
     },
     "execution_count": 3,
     "metadata": {},
     "output_type": "execute_result"
    }
   ],
   "source": [
    "df.Category.value_counts()"
   ]
  },
  {
   "cell_type": "code",
   "execution_count": 2,
   "metadata": {},
   "outputs": [
    {
     "data": {
      "text/plain": [
       "(2121, 21)"
      ]
     },
     "execution_count": 2,
     "metadata": {},
     "output_type": "execute_result"
    }
   ],
   "source": [
    "##Subsetting the Furniture category using loc\n",
    "##Single Dimensional data\n",
    "furniture = df.loc[df['Category'] == 'Furniture']\n",
    "furniture.shape"
   ]
  },
  {
   "cell_type": "code",
   "execution_count": 3,
   "metadata": {},
   "outputs": [
    {
     "data": {
      "text/plain": [
       "(Timestamp('2014-01-06 00:00:00'), Timestamp('2017-12-30 00:00:00'))"
      ]
     },
     "execution_count": 3,
     "metadata": {},
     "output_type": "execute_result"
    }
   ],
   "source": [
    "#To find the number years\n",
    "furniture['Order Date'].min(), furniture['Order Date'].max()"
   ]
  },
  {
   "cell_type": "code",
   "execution_count": 4,
   "metadata": {},
   "outputs": [
    {
     "data": {
      "text/plain": [
       "Order Date    0\n",
       "Sales         0\n",
       "dtype: int64"
      ]
     },
     "execution_count": 4,
     "metadata": {},
     "output_type": "execute_result"
    }
   ],
   "source": [
    "#Chronological Order\n",
    "furniture=furniture[[\"Order Date\",\"Sales\"]]\n",
    "furniture = furniture.sort_values('Order Date')\n",
    "furniture.isnull().sum()"
   ]
  },
  {
   "cell_type": "code",
   "execution_count": 5,
   "metadata": {},
   "outputs": [
    {
     "data": {
      "text/html": [
       "<div>\n",
       "<style scoped>\n",
       "    .dataframe tbody tr th:only-of-type {\n",
       "        vertical-align: middle;\n",
       "    }\n",
       "\n",
       "    .dataframe tbody tr th {\n",
       "        vertical-align: top;\n",
       "    }\n",
       "\n",
       "    .dataframe thead th {\n",
       "        text-align: right;\n",
       "    }\n",
       "</style>\n",
       "<table border=\"1\" class=\"dataframe\">\n",
       "  <thead>\n",
       "    <tr style=\"text-align: right;\">\n",
       "      <th></th>\n",
       "      <th>Order Date</th>\n",
       "      <th>Sales</th>\n",
       "    </tr>\n",
       "  </thead>\n",
       "  <tbody>\n",
       "    <tr>\n",
       "      <td>7474</td>\n",
       "      <td>2014-01-06</td>\n",
       "      <td>2573.820</td>\n",
       "    </tr>\n",
       "    <tr>\n",
       "      <td>7660</td>\n",
       "      <td>2014-01-07</td>\n",
       "      <td>76.728</td>\n",
       "    </tr>\n",
       "    <tr>\n",
       "      <td>866</td>\n",
       "      <td>2014-01-10</td>\n",
       "      <td>51.940</td>\n",
       "    </tr>\n",
       "    <tr>\n",
       "      <td>716</td>\n",
       "      <td>2014-01-11</td>\n",
       "      <td>9.940</td>\n",
       "    </tr>\n",
       "    <tr>\n",
       "      <td>2978</td>\n",
       "      <td>2014-01-13</td>\n",
       "      <td>545.940</td>\n",
       "    </tr>\n",
       "    <tr>\n",
       "      <td>4938</td>\n",
       "      <td>2014-01-13</td>\n",
       "      <td>333.999</td>\n",
       "    </tr>\n",
       "    <tr>\n",
       "      <td>6474</td>\n",
       "      <td>2014-01-14</td>\n",
       "      <td>61.960</td>\n",
       "    </tr>\n",
       "    <tr>\n",
       "      <td>970</td>\n",
       "      <td>2014-01-16</td>\n",
       "      <td>127.104</td>\n",
       "    </tr>\n",
       "    <tr>\n",
       "      <td>5465</td>\n",
       "      <td>2014-01-19</td>\n",
       "      <td>181.470</td>\n",
       "    </tr>\n",
       "    <tr>\n",
       "      <td>6327</td>\n",
       "      <td>2014-01-20</td>\n",
       "      <td>272.940</td>\n",
       "    </tr>\n",
       "  </tbody>\n",
       "</table>\n",
       "</div>"
      ],
      "text/plain": [
       "     Order Date     Sales\n",
       "7474 2014-01-06  2573.820\n",
       "7660 2014-01-07    76.728\n",
       "866  2014-01-10    51.940\n",
       "716  2014-01-11     9.940\n",
       "2978 2014-01-13   545.940\n",
       "4938 2014-01-13   333.999\n",
       "6474 2014-01-14    61.960\n",
       "970  2014-01-16   127.104\n",
       "5465 2014-01-19   181.470\n",
       "6327 2014-01-20   272.940"
      ]
     },
     "execution_count": 5,
     "metadata": {},
     "output_type": "execute_result"
    }
   ],
   "source": [
    "furniture.head(10) ##Some days are missing which needs to be handled\n",
    "##Grouping is required to club the 2 record of single day into one"
   ]
  },
  {
   "cell_type": "code",
   "execution_count": 6,
   "metadata": {},
   "outputs": [
    {
     "data": {
      "text/plain": [
       "(889, 2)"
      ]
     },
     "execution_count": 6,
     "metadata": {},
     "output_type": "execute_result"
    }
   ],
   "source": [
    "##Clubbing the obs. of same date\n",
    "##Sum() to sum the values on same date\n",
    "furniture = furniture.groupby('Order Date')['Sales'].sum().reset_index()\n",
    "furniture.shape"
   ]
  },
  {
   "cell_type": "code",
   "execution_count": 7,
   "metadata": {},
   "outputs": [
    {
     "data": {
      "text/html": [
       "<div>\n",
       "<style scoped>\n",
       "    .dataframe tbody tr th:only-of-type {\n",
       "        vertical-align: middle;\n",
       "    }\n",
       "\n",
       "    .dataframe tbody tr th {\n",
       "        vertical-align: top;\n",
       "    }\n",
       "\n",
       "    .dataframe thead th {\n",
       "        text-align: right;\n",
       "    }\n",
       "</style>\n",
       "<table border=\"1\" class=\"dataframe\">\n",
       "  <thead>\n",
       "    <tr style=\"text-align: right;\">\n",
       "      <th></th>\n",
       "      <th>Order Date</th>\n",
       "      <th>Sales</th>\n",
       "    </tr>\n",
       "  </thead>\n",
       "  <tbody>\n",
       "    <tr>\n",
       "      <td>0</td>\n",
       "      <td>2014-01-06</td>\n",
       "      <td>2573.820</td>\n",
       "    </tr>\n",
       "    <tr>\n",
       "      <td>1</td>\n",
       "      <td>2014-01-07</td>\n",
       "      <td>76.728</td>\n",
       "    </tr>\n",
       "    <tr>\n",
       "      <td>2</td>\n",
       "      <td>2014-01-10</td>\n",
       "      <td>51.940</td>\n",
       "    </tr>\n",
       "    <tr>\n",
       "      <td>3</td>\n",
       "      <td>2014-01-11</td>\n",
       "      <td>9.940</td>\n",
       "    </tr>\n",
       "    <tr>\n",
       "      <td>4</td>\n",
       "      <td>2014-01-13</td>\n",
       "      <td>879.939</td>\n",
       "    </tr>\n",
       "    <tr>\n",
       "      <td>5</td>\n",
       "      <td>2014-01-14</td>\n",
       "      <td>61.960</td>\n",
       "    </tr>\n",
       "    <tr>\n",
       "      <td>6</td>\n",
       "      <td>2014-01-16</td>\n",
       "      <td>127.104</td>\n",
       "    </tr>\n",
       "    <tr>\n",
       "      <td>7</td>\n",
       "      <td>2014-01-19</td>\n",
       "      <td>181.470</td>\n",
       "    </tr>\n",
       "    <tr>\n",
       "      <td>8</td>\n",
       "      <td>2014-01-20</td>\n",
       "      <td>1413.510</td>\n",
       "    </tr>\n",
       "    <tr>\n",
       "      <td>9</td>\n",
       "      <td>2014-01-21</td>\n",
       "      <td>25.248</td>\n",
       "    </tr>\n",
       "  </tbody>\n",
       "</table>\n",
       "</div>"
      ],
      "text/plain": [
       "  Order Date     Sales\n",
       "0 2014-01-06  2573.820\n",
       "1 2014-01-07    76.728\n",
       "2 2014-01-10    51.940\n",
       "3 2014-01-11     9.940\n",
       "4 2014-01-13   879.939\n",
       "5 2014-01-14    61.960\n",
       "6 2014-01-16   127.104\n",
       "7 2014-01-19   181.470\n",
       "8 2014-01-20  1413.510\n",
       "9 2014-01-21    25.248"
      ]
     },
     "execution_count": 7,
     "metadata": {},
     "output_type": "execute_result"
    }
   ],
   "source": [
    "furniture.head(10)"
   ]
  },
  {
   "cell_type": "code",
   "execution_count": 8,
   "metadata": {},
   "outputs": [],
   "source": [
    "furniture = furniture.set_index('Order Date') ##To set index if not previously using index_col"
   ]
  },
  {
   "cell_type": "code",
   "execution_count": 9,
   "metadata": {
    "scrolled": true
   },
   "outputs": [
    {
     "data": {
      "text/html": [
       "<div>\n",
       "<style scoped>\n",
       "    .dataframe tbody tr th:only-of-type {\n",
       "        vertical-align: middle;\n",
       "    }\n",
       "\n",
       "    .dataframe tbody tr th {\n",
       "        vertical-align: top;\n",
       "    }\n",
       "\n",
       "    .dataframe thead th {\n",
       "        text-align: right;\n",
       "    }\n",
       "</style>\n",
       "<table border=\"1\" class=\"dataframe\">\n",
       "  <thead>\n",
       "    <tr style=\"text-align: right;\">\n",
       "      <th></th>\n",
       "      <th>Sales</th>\n",
       "    </tr>\n",
       "    <tr>\n",
       "      <th>Order Date</th>\n",
       "      <th></th>\n",
       "    </tr>\n",
       "  </thead>\n",
       "  <tbody>\n",
       "    <tr>\n",
       "      <td>2014-01-06</td>\n",
       "      <td>2573.820</td>\n",
       "    </tr>\n",
       "    <tr>\n",
       "      <td>2014-01-07</td>\n",
       "      <td>76.728</td>\n",
       "    </tr>\n",
       "    <tr>\n",
       "      <td>2014-01-10</td>\n",
       "      <td>51.940</td>\n",
       "    </tr>\n",
       "    <tr>\n",
       "      <td>2014-01-11</td>\n",
       "      <td>9.940</td>\n",
       "    </tr>\n",
       "    <tr>\n",
       "      <td>2014-01-13</td>\n",
       "      <td>879.939</td>\n",
       "    </tr>\n",
       "  </tbody>\n",
       "</table>\n",
       "</div>"
      ],
      "text/plain": [
       "               Sales\n",
       "Order Date          \n",
       "2014-01-06  2573.820\n",
       "2014-01-07    76.728\n",
       "2014-01-10    51.940\n",
       "2014-01-11     9.940\n",
       "2014-01-13   879.939"
      ]
     },
     "execution_count": 9,
     "metadata": {},
     "output_type": "execute_result"
    }
   ],
   "source": [
    "furniture.head()"
   ]
  },
  {
   "cell_type": "code",
   "execution_count": 17,
   "metadata": {},
   "outputs": [],
   "source": [
    "##Clubbing the obs. on the monthly level\n",
    "##MS-->Monthly Start\n",
    "y = furniture['Sales'].resample('MS').mean()\n",
    "#mean --> average sale across all the day in specific month"
   ]
  },
  {
   "cell_type": "code",
   "execution_count": 18,
   "metadata": {},
   "outputs": [
    {
     "name": "stdout",
     "output_type": "stream",
     "text": [
      "(48,)\n"
     ]
    },
    {
     "data": {
      "text/plain": [
       "Order Date\n",
       "2014-01-01     480.194231\n",
       "2014-02-01     367.931600\n",
       "2014-03-01     857.291529\n",
       "2014-04-01     567.488357\n",
       "2014-05-01     432.049188\n",
       "2014-06-01     695.059242\n",
       "2014-07-01     601.169500\n",
       "2014-08-01     457.521656\n",
       "2014-09-01     992.353367\n",
       "2014-10-01     769.015437\n",
       "2014-11-01     980.221486\n",
       "2014-12-01    1532.298325\n",
       "2015-01-01     978.328467\n",
       "2015-02-01     522.395667\n",
       "2015-03-01     781.236437\n",
       "2015-04-01     805.822962\n",
       "2015-05-01     624.996700\n",
       "2015-06-01     428.565500\n",
       "2015-07-01     719.706316\n",
       "2015-08-01     602.412012\n",
       "2015-09-01    1382.790684\n",
       "2015-10-01     632.980184\n",
       "2015-11-01    1286.701354\n",
       "2015-12-01    1049.355418\n",
       "2016-01-01     508.182867\n",
       "2016-02-01     356.868273\n",
       "2016-03-01     609.575810\n",
       "2016-04-01     695.373158\n",
       "2016-05-01     687.265227\n",
       "2016-06-01     816.910750\n",
       "2016-07-01     768.736412\n",
       "2016-08-01     734.307782\n",
       "2016-09-01    1135.953371\n",
       "2016-10-01     624.872474\n",
       "2016-11-01    1271.345152\n",
       "2016-12-01    1410.719808\n",
       "2017-01-01     397.602133\n",
       "2017-02-01     528.179800\n",
       "2017-03-01     544.672240\n",
       "2017-04-01     453.297905\n",
       "2017-05-01     678.302328\n",
       "2017-06-01     826.460291\n",
       "2017-07-01     562.524857\n",
       "2017-08-01     857.881889\n",
       "2017-09-01    1209.508583\n",
       "2017-10-01     875.362728\n",
       "2017-11-01    1277.817759\n",
       "2017-12-01    1256.298672\n",
       "Freq: MS, Name: Sales, dtype: float64"
      ]
     },
     "execution_count": 18,
     "metadata": {},
     "output_type": "execute_result"
    }
   ],
   "source": [
    "print(y.shape)\n",
    "y\n"
   ]
  },
  {
   "cell_type": "code",
   "execution_count": 19,
   "metadata": {},
   "outputs": [
    {
     "data": {
      "image/png": "[encoded data removed]",
      "text/plain": [
       "<Figure size 720x432 with 1 Axes>"
      ]
     },
     "metadata": {
      "needs_background": "light"
     },
     "output_type": "display_data"
    }
   ],
   "source": [
    "##Generate line graph for the continuos values above\n",
    "y.plot(figsize=(10, 6)) \n",
    "plt.show()\n",
    "##Trend component seen within the year and not throughout\n",
    "##Also seasonality seen"
   ]
  },
  {
   "cell_type": "code",
   "execution_count": 20,
   "metadata": {},
   "outputs": [
    {
     "data": {
      "text/plain": [
       "Order Date\n",
       "2016-08-01     734.307782\n",
       "2016-09-01    1135.953371\n",
       "2016-10-01     624.872474\n",
       "2016-11-01    1271.345152\n",
       "2016-12-01    1410.719808\n",
       "Freq: MS, Name: Sales, dtype: float64"
      ]
     },
     "execution_count": 20,
     "metadata": {},
     "output_type": "execute_result"
    }
   ],
   "source": [
    "train=y.loc[:'2016-12-01'] ##From begginning tke till december 1st of 2016 for training\n",
    "train.tail()\n",
    "\n"
   ]
  },
  {
   "cell_type": "code",
   "execution_count": 21,
   "metadata": {},
   "outputs": [
    {
     "data": {
      "text/plain": [
       "Order Date\n",
       "2017-08-01     857.881889\n",
       "2017-09-01    1209.508583\n",
       "2017-10-01     875.362728\n",
       "2017-11-01    1277.817759\n",
       "2017-12-01    1256.298672\n",
       "Freq: MS, Name: Sales, dtype: float64"
      ]
     },
     "execution_count": 21,
     "metadata": {},
     "output_type": "execute_result"
    }
   ],
   "source": [
    "#From jan 1 2017 upto end take for test data\n",
    "test=y.loc['2017-01-01':]\n",
    "test.tail()"
   ]
  },
  {
   "cell_type": "code",
   "execution_count": 22,
   "metadata": {},
   "outputs": [
    {
     "data": {
      "image/png": "[encoded data removed]",
      "text/plain": [
       "<Figure size 720x432 with 1 Axes>"
      ]
     },
     "metadata": {
      "needs_background": "light"
     },
     "output_type": "display_data"
    }
   ],
   "source": [
    "#Plotting data\n",
    "train.plot(figsize=(10,6), title= 'Average Sales', fontsize=14) ##For 2016\n",
    "test.plot(figsize=(10,6), title= 'Average Sales', fontsize=14)  ##For 2017\n",
    "#plt() will plot using two different color for esch values\n",
    "plt.show()"
   ]
  },
  {
   "cell_type": "code",
   "execution_count": null,
   "metadata": {},
   "outputs": [],
   "source": []
  },
  {
   "cell_type": "code",
   "execution_count": 23,
   "metadata": {},
   "outputs": [
    {
     "name": "stderr",
     "output_type": "stream",
     "text": [
      "C:\\anaconda\\lib\\site-packages\\statsmodels\\tsa\\holtwinters.py:322: FutureWarning: Addition/subtraction of integers and integer-arrays to Timestamp is deprecated, will be removed in a future version.  Instead of adding/subtracting `n`, use `n * self.freq`\n",
      "  start = self.model._index[-1] + 1\n",
      "C:\\anaconda\\lib\\site-packages\\statsmodels\\tsa\\holtwinters.py:323: FutureWarning: Addition/subtraction of integers and integer-arrays to Timestamp is deprecated, will be removed in a future version.  Instead of adding/subtracting `n`, use `n * self.freq`\n",
      "  end = self.model._index[-1] + steps\n",
      "C:\\anaconda\\lib\\site-packages\\statsmodels\\tsa\\base\\tsa_model.py:336: FutureWarning: Creating a DatetimeIndex by passing range endpoints is deprecated.  Use `pandas.date_range` instead.\n",
      "  freq=base_index.freq)\n"
     ]
    },
    {
     "data": {
      "image/png": "[encoded data removed]",
      "text/plain": [
       "<Figure size 720x432 with 1 Axes>"
      ]
     },
     "metadata": {
      "needs_background": "light"
     },
     "output_type": "display_data"
    }
   ],
   "source": [
    "from statsmodels.tsa.api import SimpleExpSmoothing\n",
    "Exp_Smooth = test.copy()\n",
    "fit1 = SimpleExpSmoothing(train).fit(smoothing_level=0.1) ##smoothing_level=0.1 defines the imp of older values\n",
    "##0.1 means lower weigth to older values\n",
    "Exp_Smooth['SES'] = fit1.forecast(len(test)) ##(len(test)-->For how much observations to forecast\n",
    "##12 month after 2017\n",
    "\n",
    "train.plot(figsize=(10,6), title= 'Average Sales', fontsize=14)\n",
    "test.plot(figsize=(10,6), title= 'Average Sales', fontsize=14)\n",
    "Exp_Smooth['SES'].plot(figsize=(10,6), title= 'Average Sales', fontsize=14)\n",
    "plt.show()"
   ]
  },
  {
   "cell_type": "code",
   "execution_count": 24,
   "metadata": {},
   "outputs": [
    {
     "name": "stdout",
     "output_type": "stream",
     "text": [
      "316.3327471893406\n"
     ]
    }
   ],
   "source": [
    "from sklearn.metrics import mean_squared_error\n",
    "from math import sqrt\n",
    "rms = sqrt(mean_squared_error(test, Exp_Smooth.SES))\n",
    "print(rms)"
   ]
  },
  {
   "cell_type": "code",
   "execution_count": 25,
   "metadata": {},
   "outputs": [
    {
     "data": {
      "image/png": "[encoded data removed]",
      "text/plain": [
       "<Figure size 432x288 with 4 Axes>"
      ]
     },
     "metadata": {
      "needs_background": "light"
     },
     "output_type": "display_data"
    }
   ],
   "source": [
    "import statsmodels.api as sm\n",
    "decomposition = sm.tsa.seasonal_decompose(y)\n",
    "fig = decomposition.plot()\n",
    "plt.show()\n",
    "#Gives 4 component\n",
    "##On basis of this which model is to be applied"
   ]
  },
  {
   "cell_type": "code",
   "execution_count": 26,
   "metadata": {},
   "outputs": [
    {
     "name": "stderr",
     "output_type": "stream",
     "text": [
      "C:\\anaconda\\lib\\site-packages\\statsmodels\\tsa\\holtwinters.py:322: FutureWarning: Addition/subtraction of integers and integer-arrays to Timestamp is deprecated, will be removed in a future version.  Instead of adding/subtracting `n`, use `n * self.freq`\n",
      "  start = self.model._index[-1] + 1\n",
      "C:\\anaconda\\lib\\site-packages\\statsmodels\\tsa\\holtwinters.py:323: FutureWarning: Addition/subtraction of integers and integer-arrays to Timestamp is deprecated, will be removed in a future version.  Instead of adding/subtracting `n`, use `n * self.freq`\n",
      "  end = self.model._index[-1] + steps\n",
      "C:\\anaconda\\lib\\site-packages\\statsmodels\\tsa\\base\\tsa_model.py:336: FutureWarning: Creating a DatetimeIndex by passing range endpoints is deprecated.  Use `pandas.date_range` instead.\n",
      "  freq=base_index.freq)\n"
     ]
    },
    {
     "data": {
      "image/png": "[encoded data removed]",
      "text/plain": [
       "<Figure size 720x432 with 1 Axes>"
      ]
     },
     "metadata": {
      "needs_background": "light"
     },
     "output_type": "display_data"
    }
   ],
   "source": [
    "from statsmodels.tsa.api import Holt\n",
    "Holt_df = test.copy()\n",
    "\n",
    "fit1 = Holt(train).fit(smoothing_level = 0.05,smoothing_slope = 0.75)\n",
    "#smoothing_level = 0.05-weigths\n",
    "#smoothing_slope = 0.75-inclination\n",
    "\n",
    "Holt_df['Holt_linear'] = fit1.forecast(len(test))\n",
    "\n",
    "train.plot(figsize=(10,6), title= 'Average Sales', fontsize=14)\n",
    "test.plot(figsize=(10,6), title= 'Average Sales', fontsize=14)\n",
    "Holt_df['Holt_linear'].plot(figsize=(10,6), title= 'Average Sales', fontsize=14)\n",
    "plt.show()"
   ]
  },
  {
   "cell_type": "code",
   "execution_count": 27,
   "metadata": {},
   "outputs": [
    {
     "name": "stdout",
     "output_type": "stream",
     "text": [
      "215.57931215799604\n"
     ]
    }
   ],
   "source": [
    "from sklearn.metrics import mean_squared_error\n",
    "from math import sqrt\n",
    "rms = sqrt(mean_squared_error(test, Holt_df['Holt_linear']))\n",
    "print(rms)"
   ]
  },
  {
   "cell_type": "markdown",
   "metadata": {},
   "source": [
    " ExponentialSmoothing"
   ]
  },
  {
   "cell_type": "code",
   "execution_count": 29,
   "metadata": {},
   "outputs": [
    {
     "name": "stderr",
     "output_type": "stream",
     "text": [
      "C:\\anaconda\\lib\\site-packages\\statsmodels\\tsa\\holtwinters.py:322: FutureWarning: Addition/subtraction of integers and integer-arrays to Timestamp is deprecated, will be removed in a future version.  Instead of adding/subtracting `n`, use `n * self.freq`\n",
      "  start = self.model._index[-1] + 1\n",
      "C:\\anaconda\\lib\\site-packages\\statsmodels\\tsa\\holtwinters.py:323: FutureWarning: Addition/subtraction of integers and integer-arrays to Timestamp is deprecated, will be removed in a future version.  Instead of adding/subtracting `n`, use `n * self.freq`\n",
      "  end = self.model._index[-1] + steps\n",
      "C:\\anaconda\\lib\\site-packages\\statsmodels\\tsa\\base\\tsa_model.py:336: FutureWarning: Creating a DatetimeIndex by passing range endpoints is deprecated.  Use `pandas.date_range` instead.\n",
      "  freq=base_index.freq)\n"
     ]
    },
    {
     "data": {
      "image/png": "[encoded data removed]",
      "text/plain": [
       "<Figure size 720x432 with 1 Axes>"
      ]
     },
     "metadata": {
      "needs_background": "light"
     },
     "output_type": "display_data"
    }
   ],
   "source": [
    "from statsmodels.tsa.api import ExponentialSmoothing\n",
    "Holt_Winter_df = test.copy()\n",
    "## seasonal_periods=12-->after how many month to repeat,\n",
    "fit1 = ExponentialSmoothing(train ,seasonal_periods=12 ,\n",
    "                            trend='add',\n",
    "                            seasonal='add').fit()\n",
    "Holt_Winter_df['Holt_Winter'] = fit1.forecast(len(test))\n",
    "##Stable Graph-->Additive model\n",
    "##Exponential Graph -->Multiplicative Model\n",
    "\n",
    "\n",
    "\n",
    "train.plot(figsize=(10,6), title= 'Average Sales', fontsize=14)\n",
    "test.plot(figsize=(10,6), title= 'Average Sales', fontsize=14)\n",
    "Holt_Winter_df['Holt_Winter'].plot(figsize=(10,6), title= 'Average Sales', fontsize=14)\n",
    "plt.show()"
   ]
  },
  {
   "cell_type": "code",
   "execution_count": 31,
   "metadata": {},
   "outputs": [
    {
     "name": "stdout",
     "output_type": "stream",
     "text": [
      "193.9119904555351\n"
     ]
    }
   ],
   "source": [
    "##Rmse here is minimum of the rest therefore it is a good model\n",
    "from sklearn.metrics import mean_squared_error\n",
    "from math import sqrt\n",
    "rms = sqrt(mean_squared_error(test, Holt_Winter_df['Holt_Winter']))\n",
    "print(rms)"
   ]
  },
  {
   "cell_type": "markdown",
   "metadata": {},
   "source": [
    "#checking stationarity"
   ]
  },
  {
   "cell_type": "code",
   "execution_count": 32,
   "metadata": {
    "scrolled": false
   },
   "outputs": [
    {
     "name": "stdout",
     "output_type": "stream",
     "text": [
      "ADF Statistic: -5.19107018733927\n",
      "p-value: 0.000009\n"
     ]
    }
   ],
   "source": [
    "#checking stationarity\n",
    "from statsmodels.tsa.stattools import adfuller\n",
    "result = adfuller(y)\n",
    "print('ADF Statistic:',result[0])\n",
    "print('p-value: %f' %result[1])\n",
    "##Augment Dickey Fuller Test -ADF"
   ]
  },
  {
   "cell_type": "code",
   "execution_count": 35,
   "metadata": {},
   "outputs": [
    {
     "data": {
      "image/png": "[encoded data removed]",
      "text/plain": [
       "<Figure size 720x432 with 1 Axes>"
      ]
     },
     "metadata": {
      "needs_background": "light"
     },
     "output_type": "display_data"
    }
   ],
   "source": [
    "#diff() converts data to stationary\n",
    "\"\"\"\"f=y.diff( periods= 1) #periods= 1-->1st order differnciation\n",
    "f.plot(figsize=(10, 6))\n",
    "plt.show()\n",
    "\"\"\"\""
   ]
  },
  {
   "cell_type": "code",
   "execution_count": 36,
   "metadata": {
    "scrolled": true
   },
   "outputs": [
    {
     "name": "stdout",
     "output_type": "stream",
     "text": [
      "SARIMAX: (0, 2, 1) x (0, 2, 1, 12)\n"
     ]
    }
   ],
   "source": [
    "import itertools\n",
    "p = d = q = range(0, 3)\n",
    "pdq = list(itertools.product(p, d, q))\n",
    "seasonal_pdq = [(x[0], x[1], x[2], 12) for x in list(itertools.product(p, d, q))]\n",
    "\n",
    "print('SARIMAX:',pdq[7],'x', seasonal_pdq[7])\n"
   ]
  },
  {
   "cell_type": "code",
   "execution_count": 38,
   "metadata": {},
   "outputs": [
    {
     "data": {
      "text/plain": [
       "[(0, 0, 0, 12),\n",
       " (0, 0, 1, 12),\n",
       " (0, 0, 2, 12),\n",
       " (0, 1, 0, 12),\n",
       " (0, 1, 1, 12),\n",
       " (0, 1, 2, 12),\n",
       " (0, 2, 0, 12),\n",
       " (0, 2, 1, 12),\n",
       " (0, 2, 2, 12),\n",
       " (1, 0, 0, 12),\n",
       " (1, 0, 1, 12),\n",
       " (1, 0, 2, 12),\n",
       " (1, 1, 0, 12),\n",
       " (1, 1, 1, 12),\n",
       " (1, 1, 2, 12),\n",
       " (1, 2, 0, 12),\n",
       " (1, 2, 1, 12),\n",
       " (1, 2, 2, 12),\n",
       " (2, 0, 0, 12),\n",
       " (2, 0, 1, 12),\n",
       " (2, 0, 2, 12),\n",
       " (2, 1, 0, 12),\n",
       " (2, 1, 1, 12),\n",
       " (2, 1, 2, 12),\n",
       " (2, 2, 0, 12),\n",
       " (2, 2, 1, 12),\n",
       " (2, 2, 2, 12)]"
      ]
     },
     "execution_count": 38,
     "metadata": {},
     "output_type": "execute_result"
    }
   ],
   "source": [
    "seasonal_pdq\n",
    "#pdq"
   ]
  },
  {
   "cell_type": "code",
   "execution_count": 39,
   "metadata": {},
   "outputs": [
    {
     "name": "stderr",
     "output_type": "stream",
     "text": [
      "C:\\anaconda\\lib\\site-packages\\statsmodels\\tsa\\statespace\\representation.py:375: FutureWarning: Using a non-tuple sequence for multidimensional indexing is deprecated; use `arr[tuple(seq)]` instead of `arr[seq]`. In the future this will be interpreted as an array index, `arr[np.array(seq)]`, which will result either in an error or a different result.\n",
      "  return matrix[[slice(None)]*(matrix.ndim-1) + [0]]\n"
     ]
    },
    {
     "name": "stdout",
     "output_type": "stream",
     "text": [
      "ARIMA (0, 0, 0) x (0, 0, 0, 12)  - AIC: 769.0817523205916\n"
     ]
    },
    {
     "name": "stderr",
     "output_type": "stream",
     "text": [
      "C:\\anaconda\\lib\\site-packages\\statsmodels\\base\\model.py:508: ConvergenceWarning: Maximum Likelihood optimization failed to converge. Check mle_retvals\n",
      "  \"Check mle_retvals\", ConvergenceWarning)\n"
     ]
    },
    {
     "name": "stdout",
     "output_type": "stream",
     "text": [
      "ARIMA (0, 0, 0) x (0, 0, 1, 12)  - AIC: 1446.5593227130305\n",
      "ARIMA (0, 0, 0) x (0, 1, 0, 12)  - AIC: 477.7170130920218\n",
      "ARIMA (0, 0, 0) x (0, 2, 0, 12)  - AIC: 336.9536604857689\n",
      "ARIMA (0, 0, 0) x (1, 0, 0, 12)  - AIC: 497.23144334183365\n"
     ]
    },
    {
     "name": "stderr",
     "output_type": "stream",
     "text": [
      "C:\\anaconda\\lib\\site-packages\\statsmodels\\base\\model.py:508: ConvergenceWarning: Maximum Likelihood optimization failed to converge. Check mle_retvals\n",
      "  \"Check mle_retvals\", ConvergenceWarning)\n"
     ]
    },
    {
     "name": "stdout",
     "output_type": "stream",
     "text": [
      "ARIMA (0, 0, 0) x (1, 0, 1, 12)  - AIC: 1172.208674145885\n",
      "ARIMA (0, 0, 0) x (1, 1, 0, 12)  - AIC: 318.0047199116341\n",
      "ARIMA (0, 0, 0) x (1, 2, 0, 12)  - AIC: 162.12029487165506\n",
      "ARIMA (0, 0, 0) x (2, 0, 0, 12)  - AIC: 319.9692943450873\n"
     ]
    },
    {
     "name": "stderr",
     "output_type": "stream",
     "text": [
      "C:\\anaconda\\lib\\site-packages\\statsmodels\\base\\model.py:508: ConvergenceWarning: Maximum Likelihood optimization failed to converge. Check mle_retvals\n",
      "  \"Check mle_retvals\", ConvergenceWarning)\n"
     ]
    },
    {
     "name": "stdout",
     "output_type": "stream",
     "text": [
      "ARIMA (0, 0, 0) x (2, 0, 1, 12)  - AIC: 1010.0805104460128\n",
      "ARIMA (0, 0, 0) x (2, 1, 0, 12)  - AIC: 159.5144730671919\n",
      "ARIMA (0, 0, 1) x (0, 0, 0, 12)  - AIC: 720.9252270758095\n",
      "ARIMA (0, 0, 1) x (0, 0, 1, 12)  - AIC: 2900.357535652858\n",
      "ARIMA (0, 0, 1) x (0, 1, 0, 12)  - AIC: 466.56074298091255\n",
      "ARIMA (0, 0, 1) x (0, 2, 0, 12)  - AIC: 324.41357896726953\n"
     ]
    },
    {
     "name": "stderr",
     "output_type": "stream",
     "text": [
      "C:\\anaconda\\lib\\site-packages\\statsmodels\\base\\model.py:508: ConvergenceWarning: Maximum Likelihood optimization failed to converge. Check mle_retvals\n",
      "  \"Check mle_retvals\", ConvergenceWarning)\n"
     ]
    },
    {
     "name": "stdout",
     "output_type": "stream",
     "text": [
      "ARIMA (0, 0, 1) x (1, 0, 0, 12)  - AIC: 499.574045803366\n",
      "ARIMA (0, 0, 1) x (1, 0, 1, 12)  - AIC: 2513.1394870316744\n",
      "ARIMA (0, 0, 1) x (1, 1, 0, 12)  - AIC: 319.98848769468657\n",
      "ARIMA (0, 0, 1) x (1, 2, 0, 12)  - AIC: 163.9883442811177\n",
      "ARIMA (0, 0, 1) x (2, 0, 0, 12)  - AIC: 321.9645277061012\n",
      "ARIMA (0, 0, 1) x (2, 0, 1, 12)  - AIC: 821.0615877497486\n",
      "ARIMA (0, 0, 1) x (2, 1, 0, 12)  - AIC: 160.85410049250132\n",
      "ARIMA (0, 0, 2) x (0, 0, 0, 12)  - AIC: 695.98543109352\n",
      "ARIMA (0, 0, 2) x (0, 0, 1, 12)  - AIC: 2638.756440948118\n"
     ]
    },
    {
     "name": "stderr",
     "output_type": "stream",
     "text": [
      "C:\\anaconda\\lib\\site-packages\\statsmodels\\base\\model.py:508: ConvergenceWarning: Maximum Likelihood optimization failed to converge. Check mle_retvals\n",
      "  \"Check mle_retvals\", ConvergenceWarning)\n"
     ]
    },
    {
     "name": "stdout",
     "output_type": "stream",
     "text": [
      "ARIMA (0, 0, 2) x (0, 1, 0, 12)  - AIC: 455.2093474618761\n",
      "ARIMA (0, 0, 2) x (0, 2, 0, 12)  - AIC: 311.841738572539\n"
     ]
    },
    {
     "name": "stderr",
     "output_type": "stream",
     "text": [
      "C:\\anaconda\\lib\\site-packages\\statsmodels\\base\\model.py:508: ConvergenceWarning: Maximum Likelihood optimization failed to converge. Check mle_retvals\n",
      "  \"Check mle_retvals\", ConvergenceWarning)\n"
     ]
    },
    {
     "name": "stdout",
     "output_type": "stream",
     "text": [
      "ARIMA (0, 0, 2) x (1, 0, 0, 12)  - AIC: 501.001925377893\n",
      "ARIMA (0, 0, 2) x (1, 0, 1, 12)  - AIC: 3590.7581124622484\n",
      "ARIMA (0, 0, 2) x (1, 1, 0, 12)  - AIC: 321.8800584473859\n",
      "ARIMA (0, 0, 2) x (1, 2, 0, 12)  - AIC: 164.1823760387761\n",
      "ARIMA (0, 0, 2) x (2, 0, 0, 12)  - AIC: 323.58227595429395\n"
     ]
    },
    {
     "name": "stderr",
     "output_type": "stream",
     "text": [
      "C:\\anaconda\\lib\\site-packages\\statsmodels\\base\\model.py:508: ConvergenceWarning: Maximum Likelihood optimization failed to converge. Check mle_retvals\n",
      "  \"Check mle_retvals\", ConvergenceWarning)\n"
     ]
    },
    {
     "name": "stdout",
     "output_type": "stream",
     "text": [
      "ARIMA (0, 0, 2) x (2, 0, 1, 12)  - AIC: 795.5742951455388\n",
      "ARIMA (0, 0, 2) x (2, 1, 0, 12)  - AIC: 163.57819530872246\n",
      "ARIMA (0, 1, 0) x (0, 0, 0, 12)  - AIC: 677.894766843944\n"
     ]
    },
    {
     "name": "stderr",
     "output_type": "stream",
     "text": [
      "C:\\anaconda\\lib\\site-packages\\statsmodels\\base\\model.py:508: ConvergenceWarning: Maximum Likelihood optimization failed to converge. Check mle_retvals\n",
      "  \"Check mle_retvals\", ConvergenceWarning)\n"
     ]
    },
    {
     "name": "stdout",
     "output_type": "stream",
     "text": [
      "ARIMA (0, 1, 0) x (0, 0, 1, 12)  - AIC: 1250.2320272227237\n",
      "ARIMA (0, 1, 0) x (0, 1, 0, 12)  - AIC: 486.63785672282035\n",
      "ARIMA (0, 1, 0) x (0, 2, 0, 12)  - AIC: 334.97781225524113\n",
      "ARIMA (0, 1, 0) x (1, 0, 0, 12)  - AIC: 497.78896630044073\n"
     ]
    },
    {
     "name": "stderr",
     "output_type": "stream",
     "text": [
      "C:\\anaconda\\lib\\site-packages\\statsmodels\\base\\model.py:508: ConvergenceWarning: Maximum Likelihood optimization failed to converge. Check mle_retvals\n",
      "  \"Check mle_retvals\", ConvergenceWarning)\n"
     ]
    },
    {
     "name": "stdout",
     "output_type": "stream",
     "text": [
      "ARIMA (0, 1, 0) x (1, 0, 1, 12)  - AIC: 1550.2003231687213\n",
      "ARIMA (0, 1, 0) x (1, 1, 0, 12)  - AIC: 319.7714068109211\n",
      "ARIMA (0, 1, 0) x (1, 2, 0, 12)  - AIC: 152.42852106596337\n",
      "ARIMA (0, 1, 0) x (2, 0, 0, 12)  - AIC: 317.69402237661177\n"
     ]
    },
    {
     "name": "stderr",
     "output_type": "stream",
     "text": [
      "C:\\anaconda\\lib\\site-packages\\statsmodels\\base\\model.py:508: ConvergenceWarning: Maximum Likelihood optimization failed to converge. Check mle_retvals\n",
      "  \"Check mle_retvals\", ConvergenceWarning)\n"
     ]
    },
    {
     "name": "stdout",
     "output_type": "stream",
     "text": [
      "ARIMA (0, 1, 0) x (2, 0, 1, 12)  - AIC: 874.2060676961474\n",
      "ARIMA (0, 1, 0) x (2, 1, 0, 12)  - AIC: 153.3382918796487\n",
      "ARIMA (0, 1, 1) x (0, 0, 0, 12)  - AIC: 649.9056176816999\n",
      "ARIMA (0, 1, 1) x (0, 0, 1, 12)  - AIC: 2683.886393076119\n",
      "ARIMA (0, 1, 1) x (0, 1, 0, 12)  - AIC: 458.8705548482932\n",
      "ARIMA (0, 1, 1) x (0, 2, 0, 12)  - AIC: 317.1957697239925\n",
      "ARIMA (0, 1, 1) x (1, 0, 0, 12)  - AIC: 486.18329774427826\n",
      "ARIMA (0, 1, 1) x (1, 0, 1, 12)  - AIC: 3144.981130223559\n",
      "ARIMA (0, 1, 1) x (1, 1, 0, 12)  - AIC: 310.75743684172994\n",
      "ARIMA (0, 1, 1) x (1, 2, 0, 12)  - AIC: 154.417541025988\n",
      "ARIMA (0, 1, 1) x (2, 0, 0, 12)  - AIC: 311.85906742412493\n"
     ]
    },
    {
     "name": "stderr",
     "output_type": "stream",
     "text": [
      "C:\\anaconda\\lib\\site-packages\\statsmodels\\base\\model.py:508: ConvergenceWarning: Maximum Likelihood optimization failed to converge. Check mle_retvals\n",
      "  \"Check mle_retvals\", ConvergenceWarning)\n"
     ]
    },
    {
     "name": "stdout",
     "output_type": "stream",
     "text": [
      "ARIMA (0, 1, 1) x (2, 0, 1, 12)  - AIC: 883.8939588433032\n",
      "ARIMA (0, 1, 1) x (2, 1, 0, 12)  - AIC: 149.57227369322536\n",
      "ARIMA (0, 1, 2) x (0, 0, 0, 12)  - AIC: 634.8844283595557\n",
      "ARIMA (0, 1, 2) x (0, 0, 1, 12)  - AIC: 3125.845840339177\n",
      "ARIMA (0, 1, 2) x (0, 1, 0, 12)  - AIC: 447.58573969527805\n",
      "ARIMA (0, 1, 2) x (0, 2, 0, 12)  - AIC: 305.03445359432664\n",
      "ARIMA (0, 1, 2) x (1, 0, 0, 12)  - AIC: 487.49869126799473\n",
      "ARIMA (0, 1, 2) x (1, 0, 1, 12)  - AIC: 2428.27454001936\n",
      "ARIMA (0, 1, 2) x (1, 1, 0, 12)  - AIC: 310.7338930724569\n",
      "ARIMA (0, 1, 2) x (1, 2, 0, 12)  - AIC: 154.69701034322537\n",
      "ARIMA (0, 1, 2) x (2, 0, 0, 12)  - AIC: 313.4823847170137\n"
     ]
    },
    {
     "name": "stderr",
     "output_type": "stream",
     "text": [
      "C:\\anaconda\\lib\\site-packages\\statsmodels\\base\\model.py:508: ConvergenceWarning: Maximum Likelihood optimization failed to converge. Check mle_retvals\n",
      "  \"Check mle_retvals\", ConvergenceWarning)\n"
     ]
    },
    {
     "name": "stdout",
     "output_type": "stream",
     "text": [
      "ARIMA (0, 1, 2) x (2, 0, 1, 12)  - AIC: 768.2655317916309\n",
      "ARIMA (0, 1, 2) x (2, 1, 0, 12)  - AIC: 151.1905645993441\n",
      "ARIMA (0, 2, 0) x (0, 0, 0, 12)  - AIC: 710.1125557214733\n"
     ]
    },
    {
     "name": "stderr",
     "output_type": "stream",
     "text": [
      "C:\\anaconda\\lib\\site-packages\\statsmodels\\base\\model.py:508: ConvergenceWarning: Maximum Likelihood optimization failed to converge. Check mle_retvals\n",
      "  \"Check mle_retvals\", ConvergenceWarning)\n"
     ]
    },
    {
     "name": "stdout",
     "output_type": "stream",
     "text": [
      "ARIMA (0, 2, 0) x (0, 0, 1, 12)  - AIC: 1254.0689240717609\n",
      "ARIMA (0, 2, 0) x (0, 1, 0, 12)  - AIC: 509.89680952104726\n",
      "ARIMA (0, 2, 0) x (0, 2, 0, 12)  - AIC: 342.9544199833467\n",
      "ARIMA (0, 2, 0) x (1, 0, 0, 12)  - AIC: 520.887712617653\n"
     ]
    },
    {
     "name": "stderr",
     "output_type": "stream",
     "text": [
      "C:\\anaconda\\lib\\site-packages\\statsmodels\\base\\model.py:508: ConvergenceWarning: Maximum Likelihood optimization failed to converge. Check mle_retvals\n",
      "  \"Check mle_retvals\", ConvergenceWarning)\n"
     ]
    },
    {
     "name": "stdout",
     "output_type": "stream",
     "text": [
      "ARIMA (0, 2, 0) x (1, 0, 1, 12)  - AIC: 1210.9013083396303\n",
      "ARIMA (0, 2, 0) x (1, 1, 0, 12)  - AIC: 331.2504844685114\n",
      "ARIMA (0, 2, 0) x (1, 2, 0, 12)  - AIC: 141.68398673297605\n",
      "ARIMA (0, 2, 0) x (2, 0, 0, 12)  - AIC: 327.5955004314904\n"
     ]
    },
    {
     "name": "stderr",
     "output_type": "stream",
     "text": [
      "C:\\anaconda\\lib\\site-packages\\statsmodels\\base\\model.py:508: ConvergenceWarning: Maximum Likelihood optimization failed to converge. Check mle_retvals\n",
      "  \"Check mle_retvals\", ConvergenceWarning)\n"
     ]
    },
    {
     "name": "stdout",
     "output_type": "stream",
     "text": [
      "ARIMA (0, 2, 0) x (2, 0, 1, 12)  - AIC: 1027.9264207353929\n",
      "ARIMA (0, 2, 0) x (2, 1, 0, 12)  - AIC: 143.52744982862237\n",
      "ARIMA (0, 2, 1) x (0, 0, 0, 12)  - AIC: 652.8685965207569\n",
      "ARIMA (0, 2, 1) x (0, 0, 1, 12)  - AIC: 2500.2075856442816\n",
      "ARIMA (0, 2, 1) x (0, 1, 0, 12)  - AIC: 463.03465442793487\n",
      "ARIMA (0, 2, 1) x (0, 2, 0, 12)  - AIC: 310.3285223971922\n",
      "ARIMA (0, 2, 1) x (1, 0, 0, 12)  - AIC: 489.94585607343305\n",
      "ARIMA (0, 2, 1) x (1, 0, 1, 12)  - AIC: 2410.9603776712347\n",
      "ARIMA (0, 2, 1) x (1, 1, 0, 12)  - AIC: 310.9864728692698\n",
      "ARIMA (0, 2, 1) x (1, 2, 0, 12)  - AIC: 143.27935910476424\n",
      "ARIMA (0, 2, 1) x (2, 0, 0, 12)  - AIC: 310.505624470915\n"
     ]
    },
    {
     "name": "stderr",
     "output_type": "stream",
     "text": [
      "C:\\anaconda\\lib\\site-packages\\statsmodels\\base\\model.py:508: ConvergenceWarning: Maximum Likelihood optimization failed to converge. Check mle_retvals\n",
      "  \"Check mle_retvals\", ConvergenceWarning)\n"
     ]
    },
    {
     "name": "stdout",
     "output_type": "stream",
     "text": [
      "ARIMA (0, 2, 1) x (2, 0, 1, 12)  - AIC: 840.8564376309329\n",
      "ARIMA (0, 2, 1) x (2, 1, 0, 12)  - AIC: 142.2987308934948\n",
      "ARIMA (0, 2, 2) x (0, 0, 0, 12)  - AIC: 628.8859101989912\n",
      "ARIMA (0, 2, 2) x (0, 0, 1, 12)  - AIC: 2641.3430376907345\n",
      "ARIMA (0, 2, 2) x (0, 1, 0, 12)  - AIC: 440.1803441556315\n",
      "ARIMA (0, 2, 2) x (0, 2, 0, 12)  - AIC: 294.74667970548165\n",
      "ARIMA (0, 2, 2) x (1, 0, 0, 12)  - AIC: 482.90037025563277\n",
      "ARIMA (0, 2, 2) x (1, 0, 1, 12)  - AIC: 2624.1507022138417\n",
      "ARIMA (0, 2, 2) x (1, 1, 0, 12)  - AIC: 305.89844524201493\n",
      "ARIMA (0, 2, 2) x (1, 2, 0, 12)  - AIC: 145.59346405832423\n",
      "ARIMA (0, 2, 2) x (2, 0, 0, 12)  - AIC: 306.32807721636965\n"
     ]
    },
    {
     "name": "stderr",
     "output_type": "stream",
     "text": [
      "C:\\anaconda\\lib\\site-packages\\statsmodels\\base\\model.py:508: ConvergenceWarning: Maximum Likelihood optimization failed to converge. Check mle_retvals\n",
      "  \"Check mle_retvals\", ConvergenceWarning)\n"
     ]
    },
    {
     "name": "stdout",
     "output_type": "stream",
     "text": [
      "ARIMA (0, 2, 2) x (2, 0, 1, 12)  - AIC: 959.2286245614407\n"
     ]
    },
    {
     "name": "stderr",
     "output_type": "stream",
     "text": [
      "C:\\anaconda\\lib\\site-packages\\statsmodels\\base\\model.py:508: ConvergenceWarning: Maximum Likelihood optimization failed to converge. Check mle_retvals\n",
      "  \"Check mle_retvals\", ConvergenceWarning)\n"
     ]
    },
    {
     "name": "stdout",
     "output_type": "stream",
     "text": [
      "ARIMA (0, 2, 2) x (2, 1, 0, 12)  - AIC: 140.85597088385444\n",
      "ARIMA (1, 0, 0) x (0, 0, 0, 12)  - AIC: 692.1645522067712\n"
     ]
    },
    {
     "name": "stderr",
     "output_type": "stream",
     "text": [
      "C:\\anaconda\\lib\\site-packages\\statsmodels\\base\\model.py:508: ConvergenceWarning: Maximum Likelihood optimization failed to converge. Check mle_retvals\n",
      "  \"Check mle_retvals\", ConvergenceWarning)\n"
     ]
    },
    {
     "name": "stdout",
     "output_type": "stream",
     "text": [
      "ARIMA (1, 0, 0) x (0, 0, 1, 12)  - AIC: 1343.1777877543473\n",
      "ARIMA (1, 0, 0) x (0, 1, 0, 12)  - AIC: 479.46321478521355\n",
      "ARIMA (1, 0, 0) x (0, 2, 0, 12)  - AIC: 338.22248101866853\n",
      "ARIMA (1, 0, 0) x (1, 0, 0, 12)  - AIC: 480.92593679352177\n"
     ]
    },
    {
     "name": "stderr",
     "output_type": "stream",
     "text": [
      "C:\\anaconda\\lib\\site-packages\\statsmodels\\base\\model.py:508: ConvergenceWarning: Maximum Likelihood optimization failed to converge. Check mle_retvals\n",
      "  \"Check mle_retvals\", ConvergenceWarning)\n"
     ]
    },
    {
     "name": "stdout",
     "output_type": "stream",
     "text": [
      "ARIMA (1, 0, 0) x (1, 0, 1, 12)  - AIC: 1243.8088413604426\n",
      "ARIMA (1, 0, 0) x (1, 1, 0, 12)  - AIC: 304.4664675084554\n",
      "ARIMA (1, 0, 0) x (1, 2, 0, 12)  - AIC: 151.38820367563335\n",
      "ARIMA (1, 0, 0) x (2, 0, 0, 12)  - AIC: 306.46394968427285\n"
     ]
    },
    {
     "name": "stderr",
     "output_type": "stream",
     "text": [
      "C:\\anaconda\\lib\\site-packages\\statsmodels\\base\\model.py:508: ConvergenceWarning: Maximum Likelihood optimization failed to converge. Check mle_retvals\n",
      "  \"Check mle_retvals\", ConvergenceWarning)\n"
     ]
    },
    {
     "name": "stdout",
     "output_type": "stream",
     "text": [
      "ARIMA (1, 0, 0) x (2, 0, 1, 12)  - AIC: 811.977682743658\n",
      "ARIMA (1, 0, 0) x (2, 1, 0, 12)  - AIC: 148.47129149084458\n",
      "ARIMA (1, 0, 1) x (0, 0, 0, 12)  - AIC: 665.779444218685\n",
      "ARIMA (1, 0, 1) x (0, 0, 1, 12)  - AIC: 82073.66352065578\n",
      "ARIMA (1, 0, 1) x (0, 1, 0, 12)  - AIC: 468.3685195814987\n",
      "ARIMA (1, 0, 1) x (0, 2, 0, 12)  - AIC: 326.3604901193719\n",
      "ARIMA (1, 0, 1) x (1, 0, 0, 12)  - AIC: 482.5763323876739\n"
     ]
    },
    {
     "name": "stderr",
     "output_type": "stream",
     "text": [
      "C:\\anaconda\\lib\\site-packages\\statsmodels\\base\\model.py:508: ConvergenceWarning: Maximum Likelihood optimization failed to converge. Check mle_retvals\n",
      "  \"Check mle_retvals\", ConvergenceWarning)\n"
     ]
    },
    {
     "name": "stdout",
     "output_type": "stream",
     "text": [
      "ARIMA (1, 0, 1) x (1, 0, 1, 12)  - AIC: nan\n",
      "ARIMA (1, 0, 1) x (1, 1, 0, 12)  - AIC: 306.0156002122138\n",
      "ARIMA (1, 0, 1) x (1, 2, 0, 12)  - AIC: 153.6678902988485\n",
      "ARIMA (1, 0, 1) x (2, 0, 0, 12)  - AIC: 309.7096567879792\n"
     ]
    },
    {
     "name": "stderr",
     "output_type": "stream",
     "text": [
      "C:\\anaconda\\lib\\site-packages\\statsmodels\\base\\model.py:508: ConvergenceWarning: Maximum Likelihood optimization failed to converge. Check mle_retvals\n",
      "  \"Check mle_retvals\", ConvergenceWarning)\n"
     ]
    },
    {
     "name": "stdout",
     "output_type": "stream",
     "text": [
      "ARIMA (1, 0, 1) x (2, 0, 1, 12)  - AIC: 912.9477157454169\n",
      "ARIMA (1, 0, 1) x (2, 1, 0, 12)  - AIC: 148.6441533401408\n",
      "ARIMA (1, 0, 2) x (0, 0, 0, 12)  - AIC: 652.5371565508798\n",
      "ARIMA (1, 0, 2) x (0, 0, 1, 12)  - AIC: 250789276.34533244\n",
      "ARIMA (1, 0, 2) x (0, 1, 0, 12)  - AIC: 454.5162597159661\n",
      "ARIMA (1, 0, 2) x (0, 2, 0, 12)  - AIC: 311.9686688260509\n",
      "ARIMA (1, 0, 2) x (1, 0, 0, 12)  - AIC: 483.9435796308737\n"
     ]
    },
    {
     "name": "stderr",
     "output_type": "stream",
     "text": [
      "C:\\anaconda\\lib\\site-packages\\statsmodels\\base\\model.py:508: ConvergenceWarning: Maximum Likelihood optimization failed to converge. Check mle_retvals\n",
      "  \"Check mle_retvals\", ConvergenceWarning)\n"
     ]
    },
    {
     "name": "stdout",
     "output_type": "stream",
     "text": [
      "ARIMA (1, 0, 2) x (1, 0, 1, 12)  - AIC: nan\n",
      "ARIMA (1, 0, 2) x (1, 1, 0, 12)  - AIC: 305.8460722899311\n"
     ]
    },
    {
     "name": "stderr",
     "output_type": "stream",
     "text": [
      "C:\\anaconda\\lib\\site-packages\\statsmodels\\base\\model.py:508: ConvergenceWarning: Maximum Likelihood optimization failed to converge. Check mle_retvals\n",
      "  \"Check mle_retvals\", ConvergenceWarning)\n"
     ]
    },
    {
     "name": "stdout",
     "output_type": "stream",
     "text": [
      "ARIMA (1, 0, 2) x (1, 2, 0, 12)  - AIC: 153.2389210870296\n",
      "ARIMA (1, 0, 2) x (2, 0, 0, 12)  - AIC: 309.00667881033974\n"
     ]
    },
    {
     "name": "stderr",
     "output_type": "stream",
     "text": [
      "C:\\anaconda\\lib\\site-packages\\statsmodels\\base\\model.py:508: ConvergenceWarning: Maximum Likelihood optimization failed to converge. Check mle_retvals\n",
      "  \"Check mle_retvals\", ConvergenceWarning)\n"
     ]
    },
    {
     "name": "stdout",
     "output_type": "stream",
     "text": [
      "ARIMA (1, 0, 2) x (2, 0, 1, 12)  - AIC: 790.341098389736\n",
      "ARIMA (1, 0, 2) x (2, 1, 0, 12)  - AIC: 150.64208002627348\n",
      "ARIMA (1, 1, 0) x (0, 0, 0, 12)  - AIC: 671.2513547541902\n"
     ]
    },
    {
     "name": "stderr",
     "output_type": "stream",
     "text": [
      "C:\\anaconda\\lib\\site-packages\\statsmodels\\base\\model.py:508: ConvergenceWarning: Maximum Likelihood optimization failed to converge. Check mle_retvals\n",
      "  \"Check mle_retvals\", ConvergenceWarning)\n"
     ]
    },
    {
     "name": "stdout",
     "output_type": "stream",
     "text": [
      "ARIMA (1, 1, 0) x (0, 0, 1, 12)  - AIC: 1205.945960251849\n",
      "ARIMA (1, 1, 0) x (0, 1, 0, 12)  - AIC: 479.2003422281134\n",
      "ARIMA (1, 1, 0) x (0, 2, 0, 12)  - AIC: 332.39565976239567\n",
      "ARIMA (1, 1, 0) x (1, 0, 0, 12)  - AIC: 475.34036587848493\n"
     ]
    },
    {
     "name": "stderr",
     "output_type": "stream",
     "text": [
      "C:\\anaconda\\lib\\site-packages\\statsmodels\\base\\model.py:508: ConvergenceWarning: Maximum Likelihood optimization failed to converge. Check mle_retvals\n",
      "  \"Check mle_retvals\", ConvergenceWarning)\n"
     ]
    },
    {
     "name": "stdout",
     "output_type": "stream",
     "text": [
      "ARIMA (1, 1, 0) x (1, 0, 1, 12)  - AIC: 1269.52639945458\n",
      "ARIMA (1, 1, 0) x (1, 1, 0, 12)  - AIC: 300.6270901345443\n",
      "ARIMA (1, 1, 0) x (1, 2, 0, 12)  - AIC: 140.97940432822716\n",
      "ARIMA (1, 1, 0) x (2, 0, 0, 12)  - AIC: 301.7688524289595\n"
     ]
    },
    {
     "name": "stderr",
     "output_type": "stream",
     "text": [
      "C:\\anaconda\\lib\\site-packages\\statsmodels\\base\\model.py:508: ConvergenceWarning: Maximum Likelihood optimization failed to converge. Check mle_retvals\n",
      "  \"Check mle_retvals\", ConvergenceWarning)\n"
     ]
    },
    {
     "name": "stdout",
     "output_type": "stream",
     "text": [
      "ARIMA (1, 1, 0) x (2, 0, 1, 12)  - AIC: 824.0072655869739\n",
      "ARIMA (1, 1, 0) x (2, 1, 0, 12)  - AIC: 141.0336117249158\n",
      "ARIMA (1, 1, 1) x (0, 0, 0, 12)  - AIC: 649.0318019835024\n",
      "ARIMA (1, 1, 1) x (0, 0, 1, 12)  - AIC: 101786.44160210912\n",
      "ARIMA (1, 1, 1) x (0, 1, 0, 12)  - AIC: 460.4762687610111\n",
      "ARIMA (1, 1, 1) x (0, 2, 0, 12)  - AIC: 317.9907754347612\n",
      "ARIMA (1, 1, 1) x (1, 0, 0, 12)  - AIC: 469.52503546608614\n",
      "ARIMA (1, 1, 1) x (1, 0, 1, 12)  - AIC: 2651.570039388935\n",
      "ARIMA (1, 1, 1) x (1, 1, 0, 12)  - AIC: 297.7875439553055\n",
      "ARIMA (1, 1, 1) x (1, 2, 0, 12)  - AIC: 139.89884389576628\n",
      "ARIMA (1, 1, 1) x (2, 0, 0, 12)  - AIC: 304.8135321454457\n"
     ]
    },
    {
     "name": "stderr",
     "output_type": "stream",
     "text": [
      "C:\\anaconda\\lib\\site-packages\\statsmodels\\base\\model.py:508: ConvergenceWarning: Maximum Likelihood optimization failed to converge. Check mle_retvals\n",
      "  \"Check mle_retvals\", ConvergenceWarning)\n"
     ]
    },
    {
     "name": "stdout",
     "output_type": "stream",
     "text": [
      "ARIMA (1, 1, 1) x (2, 0, 1, 12)  - AIC: 844.2631265541413\n",
      "ARIMA (1, 1, 1) x (2, 1, 0, 12)  - AIC: 138.33714365177846\n",
      "ARIMA (1, 1, 2) x (0, 0, 0, 12)  - AIC: 636.8790377891693\n",
      "ARIMA (1, 1, 2) x (0, 0, 1, 12)  - AIC: 2520.129409324567\n",
      "ARIMA (1, 1, 2) x (0, 1, 0, 12)  - AIC: 449.4788858974891\n",
      "ARIMA (1, 1, 2) x (0, 2, 0, 12)  - AIC: 305.71513971590036\n",
      "ARIMA (1, 1, 2) x (1, 0, 0, 12)  - AIC: 471.05557650246084\n",
      "ARIMA (1, 1, 2) x (1, 0, 1, 12)  - AIC: 5126.52132777679\n",
      "ARIMA (1, 1, 2) x (1, 1, 0, 12)  - AIC: 300.33184337205086\n",
      "ARIMA (1, 1, 2) x (1, 2, 0, 12)  - AIC: 142.46380187454105\n",
      "ARIMA (1, 1, 2) x (2, 0, 0, 12)  - AIC: 302.2177682631671\n",
      "ARIMA (1, 1, 2) x (2, 0, 1, 12)  - AIC: 881.387695373094\n"
     ]
    },
    {
     "name": "stderr",
     "output_type": "stream",
     "text": [
      "C:\\anaconda\\lib\\site-packages\\statsmodels\\base\\model.py:508: ConvergenceWarning: Maximum Likelihood optimization failed to converge. Check mle_retvals\n",
      "  \"Check mle_retvals\", ConvergenceWarning)\n"
     ]
    },
    {
     "name": "stdout",
     "output_type": "stream",
     "text": [
      "ARIMA (1, 1, 2) x (2, 1, 0, 12)  - AIC: 140.77921780692722\n",
      "ARIMA (1, 2, 0) x (0, 0, 0, 12)  - AIC: 691.2298181871188\n"
     ]
    },
    {
     "name": "stderr",
     "output_type": "stream",
     "text": [
      "C:\\anaconda\\lib\\site-packages\\statsmodels\\base\\model.py:508: ConvergenceWarning: Maximum Likelihood optimization failed to converge. Check mle_retvals\n",
      "  \"Check mle_retvals\", ConvergenceWarning)\n"
     ]
    },
    {
     "name": "stdout",
     "output_type": "stream",
     "text": [
      "ARIMA (1, 2, 0) x (0, 0, 1, 12)  - AIC: 1312.3853072629895\n",
      "ARIMA (1, 2, 0) x (0, 1, 0, 12)  - AIC: 487.72549582761314\n",
      "ARIMA (1, 2, 0) x (0, 2, 0, 12)  - AIC: 326.7564415658333\n",
      "ARIMA (1, 2, 0) x (1, 0, 0, 12)  - AIC: 485.774688590058\n",
      "ARIMA (1, 2, 0) x (1, 0, 1, 12)  - AIC: 1263.3885815225833\n",
      "ARIMA (1, 2, 0) x (1, 1, 0, 12)  - AIC: 302.0552143225234\n",
      "ARIMA (1, 2, 0) x (1, 2, 0, 12)  - AIC: 129.59004245503547\n",
      "ARIMA (1, 2, 0) x (2, 0, 0, 12)  - AIC: 303.83852169143\n"
     ]
    },
    {
     "name": "stderr",
     "output_type": "stream",
     "text": [
      "C:\\anaconda\\lib\\site-packages\\statsmodels\\base\\model.py:508: ConvergenceWarning: Maximum Likelihood optimization failed to converge. Check mle_retvals\n",
      "  \"Check mle_retvals\", ConvergenceWarning)\n"
     ]
    },
    {
     "name": "stdout",
     "output_type": "stream",
     "text": [
      "ARIMA (1, 2, 0) x (2, 0, 1, 12)  - AIC: 987.2951781044056\n",
      "ARIMA (1, 2, 0) x (2, 1, 0, 12)  - AIC: 130.8650268398057\n",
      "ARIMA (1, 2, 1) x (0, 0, 0, 12)  - AIC: 647.518304878678\n",
      "ARIMA (1, 2, 1) x (0, 0, 1, 12)  - AIC: 2571.3625413189275\n",
      "ARIMA (1, 2, 1) x (0, 1, 0, 12)  - AIC: 455.9868411970358\n",
      "ARIMA (1, 2, 1) x (0, 2, 0, 12)  - AIC: 308.33975356020125\n",
      "ARIMA (1, 2, 1) x (1, 0, 0, 12)  - AIC: 470.83502628215473\n",
      "ARIMA (1, 2, 1) x (1, 0, 1, 12)  - AIC: 188314.57797232026\n",
      "ARIMA (1, 2, 1) x (1, 1, 0, 12)  - AIC: 293.0917446828922\n",
      "ARIMA (1, 2, 1) x (1, 2, 0, 12)  - AIC: 128.46456178858818\n",
      "ARIMA (1, 2, 1) x (2, 0, 0, 12)  - AIC: 293.76780130293076\n"
     ]
    },
    {
     "name": "stderr",
     "output_type": "stream",
     "text": [
      "C:\\anaconda\\lib\\site-packages\\statsmodels\\base\\model.py:508: ConvergenceWarning: Maximum Likelihood optimization failed to converge. Check mle_retvals\n",
      "  \"Check mle_retvals\", ConvergenceWarning)\n"
     ]
    },
    {
     "name": "stdout",
     "output_type": "stream",
     "text": [
      "ARIMA (1, 2, 1) x (2, 0, 1, 12)  - AIC: 1009.125407550217\n",
      "ARIMA (1, 2, 1) x (2, 1, 0, 12)  - AIC: 130.67250513577733\n",
      "ARIMA (1, 2, 2) x (0, 0, 0, 12)  - AIC: 629.3897471831328\n",
      "ARIMA (1, 2, 2) x (0, 0, 1, 12)  - AIC: 2424.0839261877527\n",
      "ARIMA (1, 2, 2) x (0, 1, 0, 12)  - AIC: 442.08163418060667\n",
      "ARIMA (1, 2, 2) x (0, 2, 0, 12)  - AIC: 294.5627826458664\n",
      "ARIMA (1, 2, 2) x (1, 0, 0, 12)  - AIC: 470.5931802292273\n",
      "ARIMA (1, 2, 2) x (1, 0, 1, 12)  - AIC: 20098.21226673324\n",
      "ARIMA (1, 2, 2) x (1, 1, 0, 12)  - AIC: 293.3465954552905\n"
     ]
    },
    {
     "name": "stderr",
     "output_type": "stream",
     "text": [
      "C:\\anaconda\\lib\\site-packages\\statsmodels\\base\\model.py:508: ConvergenceWarning: Maximum Likelihood optimization failed to converge. Check mle_retvals\n",
      "  \"Check mle_retvals\", ConvergenceWarning)\n"
     ]
    },
    {
     "name": "stdout",
     "output_type": "stream",
     "text": [
      "ARIMA (1, 2, 2) x (1, 2, 0, 12)  - AIC: 127.95948034884881\n",
      "ARIMA (1, 2, 2) x (2, 0, 0, 12)  - AIC: 294.00291413631624\n",
      "ARIMA (1, 2, 2) x (2, 0, 1, 12)  - AIC: 2240.495647525567\n",
      "ARIMA (1, 2, 2) x (2, 1, 0, 12)  - AIC: 129.61643100707585\n",
      "ARIMA (2, 0, 0) x (0, 0, 0, 12)  - AIC: 673.0244705850719\n"
     ]
    },
    {
     "name": "stderr",
     "output_type": "stream",
     "text": [
      "C:\\anaconda\\lib\\site-packages\\statsmodels\\base\\model.py:508: ConvergenceWarning: Maximum Likelihood optimization failed to converge. Check mle_retvals\n",
      "  \"Check mle_retvals\", ConvergenceWarning)\n"
     ]
    },
    {
     "name": "stdout",
     "output_type": "stream",
     "text": [
      "ARIMA (2, 0, 0) x (0, 0, 1, 12)  - AIC: 1419.416049705256\n",
      "ARIMA (2, 0, 0) x (0, 1, 0, 12)  - AIC: 468.31523432718774\n",
      "ARIMA (2, 0, 0) x (0, 2, 0, 12)  - AIC: 326.1432862885688\n",
      "ARIMA (2, 0, 0) x (1, 0, 0, 12)  - AIC: 469.6045539473322\n"
     ]
    },
    {
     "name": "stderr",
     "output_type": "stream",
     "text": [
      "C:\\anaconda\\lib\\site-packages\\statsmodels\\base\\model.py:508: ConvergenceWarning: Maximum Likelihood optimization failed to converge. Check mle_retvals\n",
      "  \"Check mle_retvals\", ConvergenceWarning)\n"
     ]
    },
    {
     "name": "stdout",
     "output_type": "stream",
     "text": [
      "ARIMA (2, 0, 0) x (1, 0, 1, 12)  - AIC: 1066.6507465560246\n",
      "ARIMA (2, 0, 0) x (1, 1, 0, 12)  - AIC: 293.5694644840531\n",
      "ARIMA (2, 0, 0) x (1, 2, 0, 12)  - AIC: 134.478154330352\n",
      "ARIMA (2, 0, 0) x (2, 0, 0, 12)  - AIC: 295.52819097168\n",
      "ARIMA (2, 0, 0) x (2, 0, 1, 12)  - AIC: 819.5665083963388\n",
      "ARIMA (2, 0, 0) x (2, 1, 0, 12)  - AIC: 136.04020418832428\n",
      "ARIMA (2, 0, 1) x (0, 0, 0, 12)  - AIC: 665.7944839756422\n"
     ]
    },
    {
     "name": "stderr",
     "output_type": "stream",
     "text": [
      "C:\\anaconda\\lib\\site-packages\\statsmodels\\base\\model.py:508: ConvergenceWarning: Maximum Likelihood optimization failed to converge. Check mle_retvals\n",
      "  \"Check mle_retvals\", ConvergenceWarning)\n"
     ]
    },
    {
     "name": "stdout",
     "output_type": "stream",
     "text": [
      "ARIMA (2, 0, 1) x (0, 0, 1, 12)  - AIC: nan\n",
      "ARIMA (2, 0, 1) x (0, 1, 0, 12)  - AIC: 469.8069210954245\n",
      "ARIMA (2, 0, 1) x (0, 2, 0, 12)  - AIC: 326.61489020924546\n",
      "ARIMA (2, 0, 1) x (1, 0, 0, 12)  - AIC: 471.15581793456954\n",
      "ARIMA (2, 0, 1) x (1, 0, 1, 12)  - AIC: 321969.133310845\n",
      "ARIMA (2, 0, 1) x (1, 1, 0, 12)  - AIC: 294.14936433278467\n",
      "ARIMA (2, 0, 1) x (1, 2, 0, 12)  - AIC: 136.47829623483096\n",
      "ARIMA (2, 0, 1) x (2, 0, 0, 12)  - AIC: 295.9333700518085\n"
     ]
    },
    {
     "name": "stderr",
     "output_type": "stream",
     "text": [
      "C:\\anaconda\\lib\\site-packages\\statsmodels\\base\\model.py:508: ConvergenceWarning: Maximum Likelihood optimization failed to converge. Check mle_retvals\n",
      "  \"Check mle_retvals\", ConvergenceWarning)\n"
     ]
    },
    {
     "name": "stdout",
     "output_type": "stream",
     "text": [
      "ARIMA (2, 0, 1) x (2, 0, 1, 12)  - AIC: 817.1179023913238\n"
     ]
    },
    {
     "name": "stderr",
     "output_type": "stream",
     "text": [
      "C:\\anaconda\\lib\\site-packages\\statsmodels\\base\\model.py:508: ConvergenceWarning: Maximum Likelihood optimization failed to converge. Check mle_retvals\n",
      "  \"Check mle_retvals\", ConvergenceWarning)\n"
     ]
    },
    {
     "name": "stdout",
     "output_type": "stream",
     "text": [
      "ARIMA (2, 0, 1) x (2, 1, 0, 12)  - AIC: 134.32598513853878\n",
      "ARIMA (2, 0, 2) x (0, 0, 0, 12)  - AIC: 653.6818630914466\n",
      "ARIMA (2, 0, 2) x (0, 0, 1, 12)  - AIC: 2580.1891525078136\n",
      "ARIMA (2, 0, 2) x (0, 1, 0, 12)  - AIC: 453.6893814559763\n",
      "ARIMA (2, 0, 2) x (0, 2, 0, 12)  - AIC: 314.4582136712954\n",
      "ARIMA (2, 0, 2) x (1, 0, 0, 12)  - AIC: 471.847877088295\n",
      "ARIMA (2, 0, 2) x (1, 0, 1, 12)  - AIC: 2439.171353442957\n"
     ]
    },
    {
     "name": "stderr",
     "output_type": "stream",
     "text": [
      "C:\\anaconda\\lib\\site-packages\\statsmodels\\base\\model.py:508: ConvergenceWarning: Maximum Likelihood optimization failed to converge. Check mle_retvals\n",
      "  \"Check mle_retvals\", ConvergenceWarning)\n"
     ]
    },
    {
     "name": "stdout",
     "output_type": "stream",
     "text": [
      "ARIMA (2, 0, 2) x (1, 1, 0, 12)  - AIC: 288.56153630523784\n",
      "ARIMA (2, 0, 2) x (1, 2, 0, 12)  - AIC: 135.2520341295555\n"
     ]
    },
    {
     "name": "stderr",
     "output_type": "stream",
     "text": [
      "C:\\anaconda\\lib\\site-packages\\statsmodels\\base\\model.py:508: ConvergenceWarning: Maximum Likelihood optimization failed to converge. Check mle_retvals\n",
      "  \"Check mle_retvals\", ConvergenceWarning)\n"
     ]
    },
    {
     "name": "stdout",
     "output_type": "stream",
     "text": [
      "ARIMA (2, 0, 2) x (2, 0, 0, 12)  - AIC: 292.25184261845516\n"
     ]
    },
    {
     "name": "stderr",
     "output_type": "stream",
     "text": [
      "C:\\anaconda\\lib\\site-packages\\statsmodels\\base\\model.py:508: ConvergenceWarning: Maximum Likelihood optimization failed to converge. Check mle_retvals\n",
      "  \"Check mle_retvals\", ConvergenceWarning)\n"
     ]
    },
    {
     "name": "stdout",
     "output_type": "stream",
     "text": [
      "ARIMA (2, 0, 2) x (2, 0, 1, 12)  - AIC: 933.5270288011332\n"
     ]
    },
    {
     "name": "stderr",
     "output_type": "stream",
     "text": [
      "C:\\anaconda\\lib\\site-packages\\statsmodels\\base\\model.py:508: ConvergenceWarning: Maximum Likelihood optimization failed to converge. Check mle_retvals\n",
      "  \"Check mle_retvals\", ConvergenceWarning)\n"
     ]
    },
    {
     "name": "stdout",
     "output_type": "stream",
     "text": [
      "ARIMA (2, 0, 2) x (2, 1, 0, 12)  - AIC: 133.4447869939679\n",
      "ARIMA (2, 1, 0) x (0, 0, 0, 12)  - AIC: 651.8913365664912\n"
     ]
    },
    {
     "name": "stderr",
     "output_type": "stream",
     "text": [
      "C:\\anaconda\\lib\\site-packages\\statsmodels\\base\\model.py:508: ConvergenceWarning: Maximum Likelihood optimization failed to converge. Check mle_retvals\n",
      "  \"Check mle_retvals\", ConvergenceWarning)\n"
     ]
    },
    {
     "name": "stdout",
     "output_type": "stream",
     "text": [
      "ARIMA (2, 1, 0) x (0, 0, 1, 12)  - AIC: 1158.9220160490152\n",
      "ARIMA (2, 1, 0) x (0, 1, 0, 12)  - AIC: 464.89194824201576\n",
      "ARIMA (2, 1, 0) x (0, 2, 0, 12)  - AIC: 318.67122575690234\n",
      "ARIMA (2, 1, 0) x (1, 0, 0, 12)  - AIC: 461.97779691394675\n"
     ]
    },
    {
     "name": "stderr",
     "output_type": "stream",
     "text": [
      "C:\\anaconda\\lib\\site-packages\\statsmodels\\base\\model.py:508: ConvergenceWarning: Maximum Likelihood optimization failed to converge. Check mle_retvals\n",
      "  \"Check mle_retvals\", ConvergenceWarning)\n"
     ]
    },
    {
     "name": "stdout",
     "output_type": "stream",
     "text": [
      "ARIMA (2, 1, 0) x (1, 0, 1, 12)  - AIC: 1406.6715855688976\n",
      "ARIMA (2, 1, 0) x (1, 1, 0, 12)  - AIC: 288.39356504174003\n",
      "ARIMA (2, 1, 0) x (1, 2, 0, 12)  - AIC: 127.60471418793317\n",
      "ARIMA (2, 1, 0) x (2, 0, 0, 12)  - AIC: 288.75986983712335\n"
     ]
    },
    {
     "name": "stderr",
     "output_type": "stream",
     "text": [
      "C:\\anaconda\\lib\\site-packages\\statsmodels\\base\\model.py:508: ConvergenceWarning: Maximum Likelihood optimization failed to converge. Check mle_retvals\n",
      "  \"Check mle_retvals\", ConvergenceWarning)\n"
     ]
    },
    {
     "name": "stdout",
     "output_type": "stream",
     "text": [
      "ARIMA (2, 1, 0) x (2, 0, 1, 12)  - AIC: 767.7659619011981\n",
      "ARIMA (2, 1, 0) x (2, 1, 0, 12)  - AIC: 126.86910500704944\n",
      "ARIMA (2, 1, 1) x (0, 0, 0, 12)  - AIC: 653.7027592625623\n"
     ]
    },
    {
     "name": "stderr",
     "output_type": "stream",
     "text": [
      "C:\\anaconda\\lib\\site-packages\\statsmodels\\base\\model.py:508: ConvergenceWarning: Maximum Likelihood optimization failed to converge. Check mle_retvals\n",
      "  \"Check mle_retvals\", ConvergenceWarning)\n"
     ]
    },
    {
     "name": "stdout",
     "output_type": "stream",
     "text": [
      "ARIMA (2, 1, 1) x (0, 0, 1, 12)  - AIC: nan\n",
      "ARIMA (2, 1, 1) x (0, 1, 0, 12)  - AIC: 461.57371821054346\n",
      "ARIMA (2, 1, 1) x (0, 2, 0, 12)  - AIC: 319.4751765735843\n",
      "ARIMA (2, 1, 1) x (1, 0, 0, 12)  - AIC: 457.91198004855545\n"
     ]
    },
    {
     "name": "stderr",
     "output_type": "stream",
     "text": [
      "C:\\anaconda\\lib\\site-packages\\statsmodels\\base\\model.py:508: ConvergenceWarning: Maximum Likelihood optimization failed to converge. Check mle_retvals\n",
      "  \"Check mle_retvals\", ConvergenceWarning)\n"
     ]
    },
    {
     "name": "stdout",
     "output_type": "stream",
     "text": [
      "ARIMA (2, 1, 1) x (1, 0, 1, 12)  - AIC: 2502.3527230048094\n",
      "ARIMA (2, 1, 1) x (1, 1, 0, 12)  - AIC: 287.85574031075527\n"
     ]
    },
    {
     "name": "stderr",
     "output_type": "stream",
     "text": [
      "C:\\anaconda\\lib\\site-packages\\statsmodels\\base\\model.py:508: ConvergenceWarning: Maximum Likelihood optimization failed to converge. Check mle_retvals\n",
      "  \"Check mle_retvals\", ConvergenceWarning)\n"
     ]
    },
    {
     "name": "stdout",
     "output_type": "stream",
     "text": [
      "ARIMA (2, 1, 1) x (1, 2, 0, 12)  - AIC: 124.67847875122914\n",
      "ARIMA (2, 1, 1) x (2, 0, 0, 12)  - AIC: 287.84509315078435\n",
      "ARIMA (2, 1, 1) x (2, 0, 1, 12)  - AIC: 841.9609819470446\n",
      "ARIMA (2, 1, 1) x (2, 1, 0, 12)  - AIC: 126.32876516045455\n",
      "ARIMA (2, 1, 2) x (0, 0, 0, 12)  - AIC: 642.1210464572806\n",
      "ARIMA (2, 1, 2) x (0, 0, 1, 12)  - AIC: 2697.0508322994856\n",
      "ARIMA (2, 1, 2) x (0, 1, 0, 12)  - AIC: 450.07118888785647\n",
      "ARIMA (2, 1, 2) x (0, 2, 0, 12)  - AIC: 305.9445167324759\n",
      "ARIMA (2, 1, 2) x (1, 0, 0, 12)  - AIC: 459.0451067635034\n",
      "ARIMA (2, 1, 2) x (1, 0, 1, 12)  - AIC: 2789.597588070967\n"
     ]
    },
    {
     "name": "stderr",
     "output_type": "stream",
     "text": [
      "C:\\anaconda\\lib\\site-packages\\statsmodels\\base\\model.py:508: ConvergenceWarning: Maximum Likelihood optimization failed to converge. Check mle_retvals\n",
      "  \"Check mle_retvals\", ConvergenceWarning)\n"
     ]
    },
    {
     "name": "stdout",
     "output_type": "stream",
     "text": [
      "ARIMA (2, 1, 2) x (1, 1, 0, 12)  - AIC: 287.56223434686586\n"
     ]
    },
    {
     "name": "stderr",
     "output_type": "stream",
     "text": [
      "C:\\anaconda\\lib\\site-packages\\statsmodels\\base\\model.py:508: ConvergenceWarning: Maximum Likelihood optimization failed to converge. Check mle_retvals\n",
      "  \"Check mle_retvals\", ConvergenceWarning)\n"
     ]
    },
    {
     "name": "stdout",
     "output_type": "stream",
     "text": [
      "ARIMA (2, 1, 2) x (1, 2, 0, 12)  - AIC: 127.6250647253364\n",
      "ARIMA (2, 1, 2) x (2, 0, 0, 12)  - AIC: 288.57203848611584\n"
     ]
    },
    {
     "name": "stderr",
     "output_type": "stream",
     "text": [
      "C:\\anaconda\\lib\\site-packages\\statsmodels\\base\\model.py:508: ConvergenceWarning: Maximum Likelihood optimization failed to converge. Check mle_retvals\n",
      "  \"Check mle_retvals\", ConvergenceWarning)\n"
     ]
    },
    {
     "name": "stdout",
     "output_type": "stream",
     "text": [
      "ARIMA (2, 1, 2) x (2, 0, 1, 12)  - AIC: 720.5229026921412\n"
     ]
    },
    {
     "name": "stderr",
     "output_type": "stream",
     "text": [
      "C:\\anaconda\\lib\\site-packages\\statsmodels\\base\\model.py:508: ConvergenceWarning: Maximum Likelihood optimization failed to converge. Check mle_retvals\n",
      "  \"Check mle_retvals\", ConvergenceWarning)\n"
     ]
    },
    {
     "name": "stdout",
     "output_type": "stream",
     "text": [
      "ARIMA (2, 1, 2) x (2, 1, 0, 12)  - AIC: 127.91173161075598\n",
      "ARIMA (2, 2, 0) x (0, 0, 0, 12)  - AIC: 656.929182124119\n"
     ]
    },
    {
     "name": "stderr",
     "output_type": "stream",
     "text": [
      "C:\\anaconda\\lib\\site-packages\\statsmodels\\base\\model.py:508: ConvergenceWarning: Maximum Likelihood optimization failed to converge. Check mle_retvals\n",
      "  \"Check mle_retvals\", ConvergenceWarning)\n"
     ]
    },
    {
     "name": "stdout",
     "output_type": "stream",
     "text": [
      "ARIMA (2, 2, 0) x (0, 0, 1, 12)  - AIC: 1402.2855296820458\n",
      "ARIMA (2, 2, 0) x (0, 1, 0, 12)  - AIC: 467.7456111917659\n",
      "ARIMA (2, 2, 0) x (0, 2, 0, 12)  - AIC: 311.69952051934\n",
      "ARIMA (2, 2, 0) x (1, 0, 0, 12)  - AIC: 464.7608850390003\n"
     ]
    },
    {
     "name": "stderr",
     "output_type": "stream",
     "text": [
      "C:\\anaconda\\lib\\site-packages\\statsmodels\\base\\model.py:508: ConvergenceWarning: Maximum Likelihood optimization failed to converge. Check mle_retvals\n",
      "  \"Check mle_retvals\", ConvergenceWarning)\n"
     ]
    },
    {
     "name": "stdout",
     "output_type": "stream",
     "text": [
      "ARIMA (2, 2, 0) x (1, 0, 1, 12)  - AIC: 996.2811485439709\n",
      "ARIMA (2, 2, 0) x (1, 1, 0, 12)  - AIC: 286.095535414816\n",
      "ARIMA (2, 2, 0) x (1, 2, 0, 12)  - AIC: 117.90430574030786\n",
      "ARIMA (2, 2, 0) x (2, 0, 0, 12)  - AIC: 283.15554858394233\n"
     ]
    },
    {
     "name": "stderr",
     "output_type": "stream",
     "text": [
      "C:\\anaconda\\lib\\site-packages\\statsmodels\\base\\model.py:508: ConvergenceWarning: Maximum Likelihood optimization failed to converge. Check mle_retvals\n",
      "  \"Check mle_retvals\", ConvergenceWarning)\n"
     ]
    },
    {
     "name": "stdout",
     "output_type": "stream",
     "text": [
      "ARIMA (2, 2, 0) x (2, 0, 1, 12)  - AIC: 837.4774424132096\n",
      "ARIMA (2, 2, 0) x (2, 1, 0, 12)  - AIC: 117.4914430945273\n",
      "ARIMA (2, 2, 1) x (0, 0, 0, 12)  - AIC: 643.7507440372136\n",
      "ARIMA (2, 2, 1) x (0, 0, 1, 12)  - AIC: 37257.377483088036\n",
      "ARIMA (2, 2, 1) x (0, 1, 0, 12)  - AIC: 457.7096702182647\n",
      "ARIMA (2, 2, 1) x (0, 2, 0, 12)  - AIC: 309.3853855182212\n",
      "ARIMA (2, 2, 1) x (1, 0, 0, 12)  - AIC: 455.0965992766287\n",
      "ARIMA (2, 2, 1) x (1, 0, 1, 12)  - AIC: 2611.9384041409285\n",
      "ARIMA (2, 2, 1) x (1, 1, 0, 12)  - AIC: 279.4519907918317\n",
      "ARIMA (2, 2, 1) x (1, 2, 0, 12)  - AIC: 117.35996066064607\n",
      "ARIMA (2, 2, 1) x (2, 0, 0, 12)  - AIC: 279.45511391749426\n"
     ]
    },
    {
     "name": "stderr",
     "output_type": "stream",
     "text": [
      "C:\\anaconda\\lib\\site-packages\\statsmodels\\base\\model.py:508: ConvergenceWarning: Maximum Likelihood optimization failed to converge. Check mle_retvals\n",
      "  \"Check mle_retvals\", ConvergenceWarning)\n"
     ]
    },
    {
     "name": "stdout",
     "output_type": "stream",
     "text": [
      "ARIMA (2, 2, 1) x (2, 0, 1, 12)  - AIC: 742.3352216841893\n"
     ]
    },
    {
     "name": "stderr",
     "output_type": "stream",
     "text": [
      "C:\\anaconda\\lib\\site-packages\\statsmodels\\base\\model.py:508: ConvergenceWarning: Maximum Likelihood optimization failed to converge. Check mle_retvals\n",
      "  \"Check mle_retvals\", ConvergenceWarning)\n"
     ]
    },
    {
     "name": "stdout",
     "output_type": "stream",
     "text": [
      "ARIMA (2, 2, 1) x (2, 1, 0, 12)  - AIC: 116.26597421163433\n",
      "ARIMA (2, 2, 2) x (0, 0, 0, 12)  - AIC: 631.2678875794112\n",
      "ARIMA (2, 2, 2) x (0, 0, 1, 12)  - AIC: 2647.9348498771283\n",
      "ARIMA (2, 2, 2) x (0, 1, 0, 12)  - AIC: 445.2459924115169\n",
      "ARIMA (2, 2, 2) x (0, 2, 0, 12)  - AIC: 296.46503563108564\n",
      "ARIMA (2, 2, 2) x (1, 0, 0, 12)  - AIC: 452.3140186878941\n",
      "ARIMA (2, 2, 2) x (1, 0, 1, 12)  - AIC: 2595.4416075579575\n"
     ]
    },
    {
     "name": "stderr",
     "output_type": "stream",
     "text": [
      "C:\\anaconda\\lib\\site-packages\\statsmodels\\base\\model.py:508: ConvergenceWarning: Maximum Likelihood optimization failed to converge. Check mle_retvals\n",
      "  \"Check mle_retvals\", ConvergenceWarning)\n"
     ]
    },
    {
     "name": "stdout",
     "output_type": "stream",
     "text": [
      "ARIMA (2, 2, 2) x (1, 1, 0, 12)  - AIC: 281.4449947678669\n"
     ]
    },
    {
     "name": "stderr",
     "output_type": "stream",
     "text": [
      "C:\\anaconda\\lib\\site-packages\\statsmodels\\base\\model.py:508: ConvergenceWarning: Maximum Likelihood optimization failed to converge. Check mle_retvals\n",
      "  \"Check mle_retvals\", ConvergenceWarning)\n"
     ]
    },
    {
     "name": "stdout",
     "output_type": "stream",
     "text": [
      "ARIMA (2, 2, 2) x (1, 2, 0, 12)  - AIC: 118.74542162890793\n",
      "ARIMA (2, 2, 2) x (2, 0, 0, 12)  - AIC: 281.3174676910854\n"
     ]
    },
    {
     "name": "stderr",
     "output_type": "stream",
     "text": [
      "C:\\anaconda\\lib\\site-packages\\statsmodels\\base\\model.py:508: ConvergenceWarning: Maximum Likelihood optimization failed to converge. Check mle_retvals\n",
      "  \"Check mle_retvals\", ConvergenceWarning)\n"
     ]
    },
    {
     "name": "stdout",
     "output_type": "stream",
     "text": [
      "ARIMA (2, 2, 2) x (2, 0, 1, 12)  - AIC: 881.1396614400311\n",
      "ARIMA (2, 2, 2) x (2, 1, 0, 12)  - AIC: 119.41112380120546\n"
     ]
    },
    {
     "name": "stderr",
     "output_type": "stream",
     "text": [
      "C:\\anaconda\\lib\\site-packages\\statsmodels\\base\\model.py:508: ConvergenceWarning: Maximum Likelihood optimization failed to converge. Check mle_retvals\n",
      "  \"Check mle_retvals\", ConvergenceWarning)\n"
     ]
    }
   ],
   "source": [
    "\n",
    "aic_list=[]\n",
    "for param in pdq:\n",
    "    for param_seasonal in seasonal_pdq:\n",
    "        try:\n",
    "            \n",
    "            mod = sm.tsa.statespace.SARIMAX(y, order=param,\n",
    "                                seasonal_order=param_seasonal,enforce_invertibility=False,\n",
    "                                            enforce_stationarity=False)\n",
    "            results = mod.fit()\n",
    "            print('ARIMA',param,'x',param_seasonal,' - AIC:',results.aic)\n",
    "            aic_list.append(results.aic)\n",
    "        except:\n",
    "            continue"
   ]
  },
  {
   "cell_type": "code",
   "execution_count": 40,
   "metadata": {},
   "outputs": [
    {
     "name": "stdout",
     "output_type": "stream",
     "text": [
      "116.26597421163433\n"
     ]
    }
   ],
   "source": [
    "print(min(aic_list))"
   ]
  },
  {
   "cell_type": "code",
   "execution_count": 41,
   "metadata": {},
   "outputs": [
    {
     "name": "stderr",
     "output_type": "stream",
     "text": [
      "C:\\anaconda\\lib\\site-packages\\statsmodels\\base\\model.py:508: ConvergenceWarning: Maximum Likelihood optimization failed to converge. Check mle_retvals\n",
      "  \"Check mle_retvals\", ConvergenceWarning)\n"
     ]
    }
   ],
   "source": [
    "#For range of pdq (0,2)\n",
    "#ARIMA (1, 1, 1) x (1, 1, 0, 12)  - AIC: 297.7875439553055-->Best\n",
    "\"\"\"\n",
    "mod = sm.tsa.statespace.SARIMAX(y,\n",
    "                                order=(1, 1, 1),\n",
    "                                seasonal_order=(1, 1, 0, 12),enforce_invertibility=False,\n",
    "                                            enforce_stationarity=False)\n",
    "results = mod.fit()\n",
    "\"\"\"\n",
    "#For range of pdq (0,3)\n",
    "#ARIMA (2, 2, 1) x (2, 1, 0, 12)  - AIC: 116.26597421163433-->Best\n",
    "\n",
    "#(2, 2, 2) x (1, 2, 0, 12) - AIC: 115.7951484908144\n",
    "mod = sm.tsa.statespace.SARIMAX(y,\n",
    "                                order=(2, 2, 1),\n",
    "                                seasonal_order=(2, 1, 0, 12),enforce_invertibility=False,\n",
    "                                            enforce_stationarity=False)\n",
    "results = mod.fit()\n",
    "\n"
   ]
  },
  {
   "cell_type": "code",
   "execution_count": 42,
   "metadata": {},
   "outputs": [
    {
     "data": {
      "image/png": "[encoded data removed]",
      "text/plain": [
       "<Figure size 720x432 with 1 Axes>"
      ]
     },
     "metadata": {
      "needs_background": "light"
     },
     "output_type": "display_data"
    }
   ],
   "source": [
    "pred = results.get_prediction(start=pd.to_datetime('2017-01-01'))\n",
    "plt.figure(figsize=(10,6))\n",
    "ax = y['2014':].plot(label='observed')\n",
    "pred.predicted_mean.plot(ax=ax, label='Validation Forecast')\n",
    "ax.set_xlabel('Date')\n",
    "ax.set_ylabel('Furniture Sales')\n",
    "plt.legend()\n",
    "plt.show()"
   ]
  },
  {
   "cell_type": "code",
   "execution_count": 44,
   "metadata": {},
   "outputs": [
    {
     "data": {
      "text/plain": [
       "Order Date\n",
       "2017-01-01     723.985954\n",
       "2017-02-01     524.699589\n",
       "2017-03-01     744.572970\n",
       "2017-04-01     685.374036\n",
       "2017-05-01     665.590746\n",
       "2017-06-01     594.231779\n",
       "2017-07-01     678.132021\n",
       "2017-08-01     733.111360\n",
       "2017-09-01    1206.646716\n",
       "2017-10-01     625.061853\n",
       "2017-11-01    1428.980138\n",
       "2017-12-01    1469.007869\n",
       "Freq: MS, dtype: float64"
      ]
     },
     "execution_count": 44,
     "metadata": {},
     "output_type": "execute_result"
    }
   ],
   "source": [
    "pred.predicted_mean #2017 displayed which was chosen"
   ]
  },
  {
   "cell_type": "code",
   "execution_count": 45,
   "metadata": {
    "scrolled": false
   },
   "outputs": [
    {
     "name": "stdout",
     "output_type": "stream",
     "text": [
      "185.7723732683706\n"
     ]
    }
   ],
   "source": [
    "Y_pred = pred.predicted_mean\n",
    "Y_test = y['2017-01-01':]\n",
    "\n",
    "from sklearn.metrics import mean_squared_error\n",
    "from math import sqrt\n",
    "rms = sqrt(mean_squared_error(Y_test,Y_pred))\n",
    "print(rms)\n"
   ]
  },
  {
   "cell_type": "code",
   "execution_count": 46,
   "metadata": {},
   "outputs": [
    {
     "name": "stderr",
     "output_type": "stream",
     "text": [
      "C:\\anaconda\\lib\\site-packages\\statsmodels\\tsa\\base\\tsa_model.py:320: FutureWarning: Creating a DatetimeIndex by passing range endpoints is deprecated.  Use `pandas.date_range` instead.\n",
      "  freq=base_index.freq)\n"
     ]
    },
    {
     "data": {
      "image/png": "[encoded data removed]",
      "text/plain": [
       "<Figure size 720x432 with 1 Axes>"
      ]
     },
     "metadata": {
      "needs_background": "light"
     },
     "output_type": "display_data"
    }
   ],
   "source": [
    "pred_uc = results.get_forecast(steps=30) ##For how many months--->steps=30--2 n half yr\n",
    "plt.figure(figsize=(10,6))\n",
    "ax = y['2014':].plot(label='observed')\n",
    "pred_uc.predicted_mean.plot(ax=ax, label='One-step ahead Forecast')\n",
    "ax.set_xlabel('Date')\n",
    "ax.set_ylabel('Furniture Sales')\n",
    "plt.legend()\n",
    "plt.show()"
   ]
  },
  {
   "cell_type": "code",
   "execution_count": 48,
   "metadata": {
    "scrolled": true
   },
   "outputs": [
    {
     "data": {
      "text/plain": [
       "2018-01-01     546.826264\n",
       "2018-02-01     503.941382\n",
       "2018-03-01     596.451145\n",
       "2018-04-01     596.057567\n",
       "2018-05-01     736.501529\n",
       "2018-06-01     907.044428\n",
       "2018-07-01     704.979591\n",
       "2018-08-01     925.496162\n",
       "2018-09-01    1305.306844\n",
       "2018-10-01     941.042307\n",
       "2018-11-01    1403.343149\n",
       "2018-12-01    1429.249044\n",
       "2019-01-01     661.762087\n",
       "2019-02-01     665.848412\n",
       "2019-03-01     751.950130\n",
       "2019-04-01     740.577206\n",
       "2019-05-01     909.020096\n",
       "2019-06-01    1084.293237\n",
       "2019-07-01     877.920890\n",
       "2019-08-01    1124.347860\n",
       "2019-09-01    1507.448226\n",
       "2019-10-01    1159.174801\n",
       "2019-11-01    1617.819017\n",
       "2019-12-01    1642.761059\n",
       "2020-01-01     897.423963\n",
       "2020-02-01     900.658596\n",
       "2020-03-01     997.600691\n",
       "2020-04-01     998.072504\n",
       "2020-05-01    1169.816818\n",
       "2020-06-01    1353.489288\n",
       "Freq: MS, dtype: float64"
      ]
     },
     "execution_count": 48,
     "metadata": {},
     "output_type": "execute_result"
    }
   ],
   "source": [
    "Y_predictions=pred_uc.predicted_mean ##The predicted value list 2 and half year\n",
    "Y_predictions"
   ]
  },
  {
   "cell_type": "code",
   "execution_count": 49,
   "metadata": {},
   "outputs": [
    {
     "data": {
      "text/plain": [
       "pandas.core.series.Series"
      ]
     },
     "execution_count": 49,
     "metadata": {},
     "output_type": "execute_result"
    }
   ],
   "source": [
    "type(Y_predictions)"
   ]
  },
  {
   "cell_type": "code",
   "execution_count": 50,
   "metadata": {},
   "outputs": [],
   "source": [
    "Y_predictions.to_excel(\"TimeSeriesOutput.xlsx\") ##predicted values stored in the file"
   ]
  },
  {
   "cell_type": "code",
   "execution_count": null,
   "metadata": {},
   "outputs": [],
   "source": []
  },
  {
   "cell_type": "code",
   "execution_count": null,
   "metadata": {},
   "outputs": [],
   "source": []
  },
  {
   "cell_type": "code",
   "execution_count": null,
   "metadata": {},
   "outputs": [],
   "source": []
  },
  {
   "cell_type": "code",
   "execution_count": null,
   "metadata": {},
   "outputs": [],
   "source": []
  },
  {
   "cell_type": "code",
   "execution_count": null,
   "metadata": {},
   "outputs": [],
   "source": []
  }
 ],
 "metadata": {
  "kernelspec": {
   "display_name": "Python 3",
   "language": "python",
   "name": "python3"
  },
  "language_info": {
   "codemirror_mode": {
    "name": "ipython",
    "version": 3
   },
   "file_extension": ".py",
   "mimetype": "text/x-python",
   "name": "python",
   "nbconvert_exporter": "python",
   "pygments_lexer": "ipython3",
   "version": "3.7.4"
  }
 },
 "nbformat": 4,
 "nbformat_minor": 2
}
